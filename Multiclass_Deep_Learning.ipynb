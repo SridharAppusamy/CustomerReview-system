{
  "nbformat": 4,
  "nbformat_minor": 0,
  "metadata": {
    "colab": {
      "provenance": [],
      "authorship_tag": "ABX9TyPt4sSd7483V9KNfsfFb1QT",
      "include_colab_link": true
    },
    "kernelspec": {
      "name": "python3",
      "display_name": "Python 3"
    },
    "language_info": {
      "name": "python"
    }
  },
  "cells": [
    {
      "cell_type": "markdown",
      "metadata": {
        "id": "view-in-github",
        "colab_type": "text"
      },
      "source": [
        "<a href=\"https://colab.research.google.com/github/SridharAppusamy/CustomerReview-system/blob/main/Multiclass_Deep_Learning.ipynb\" target=\"_parent\"><img src=\"https://colab.research.google.com/assets/colab-badge.svg\" alt=\"Open In Colab\"/></a>"
      ]
    },
    {
      "cell_type": "code",
      "execution_count": null,
      "metadata": {
        "colab": {
          "base_uri": "https://localhost:8080/"
        },
        "id": "74XvGjGxca5u",
        "outputId": "f8952567-a5c5-4289-c9dd-dc22e50e321d"
      },
      "outputs": [
        {
          "output_type": "stream",
          "name": "stdout",
          "text": [
            "Drive already mounted at /content/drive; to attempt to forcibly remount, call drive.mount(\"/content/drive\", force_remount=True).\n"
          ]
        }
      ],
      "source": [
        "#reference Link : https://stackabuse.com/python-for-nlp-creating-multi-data-type-classification-models-with-keras/#creatingamodelwithmetainformationonly\n",
        "\n",
        "from numpy import array\n",
        "from keras.preprocessing.text import one_hot\n",
        "from keras.utils import pad_sequences\n",
        "from keras.models import Sequential\n",
        "from keras.layers.core import Activation, Dropout, Dense\n",
        "from keras.layers import Flatten, LSTM\n",
        "from keras.layers import GlobalMaxPooling1D\n",
        "from keras.models import Model\n",
        "from keras.layers import Embedding\n",
        "from sklearn.model_selection import train_test_split\n",
        "from keras.preprocessing.text import Tokenizer\n",
        "from keras.layers import Input\n",
        "from keras.layers import Concatenate\n",
        "\n",
        "import pandas as pd\n",
        "import numpy as np\n",
        "import re\n",
        "\n",
        "from google.colab import drive\n",
        "drive.mount('/content/drive')"
      ]
    },
    {
      "cell_type": "code",
      "source": [],
      "metadata": {
        "id": "KWxS2SmkXo04"
      },
      "execution_count": null,
      "outputs": []
    },
    {
      "cell_type": "markdown",
      "source": [
        "The Dataset\n",
        "\n",
        "Creating a Model with Text Inputs Only\n",
        "\n",
        "Creating a Model with Meta Information Only\n",
        "\n",
        "Creating a Model with Multiple Inputs\n",
        "\n",
        "Final Thoughts and Improvements"
      ],
      "metadata": {
        "id": "U3JFQvjBXpNn"
      }
    },
    {
      "cell_type": "code",
      "source": [
        "yelp_reviews = pd.read_csv(\"/content/drive/MyDrive/August Preparation 2023/20-Deep Learning/yelp_final.csv\")\n",
        "yelp_reviews.head()"
      ],
      "metadata": {
        "colab": {
          "base_uri": "https://localhost:8080/",
          "height": 539
        },
        "id": "Uo8V3gs2g_lm",
        "outputId": "504d974c-c92a-4e57-d211-8a5a05c39f54"
      },
      "execution_count": null,
      "outputs": [
        {
          "output_type": "execute_result",
          "data": {
            "text/plain": [
              "   Unnamed: 0             business_id                   name_x  \\\n",
              "0           4  SW_bePWPlMZJZGQ4eT9vrA  E's RV Appliance Repair   \n",
              "1           7  SW_bePWPlMZJZGQ4eT9vrA  E's RV Appliance Repair   \n",
              "2           9  SW_bePWPlMZJZGQ4eT9vrA  E's RV Appliance Repair   \n",
              "3          11  SW_bePWPlMZJZGQ4eT9vrA  E's RV Appliance Repair   \n",
              "4          12  SW_bePWPlMZJZGQ4eT9vrA  E's RV Appliance Repair   \n",
              "\n",
              "                        address  city state postal_code   latitude  longitude  \\\n",
              "0  1959 S Power Rd, Ste 103-238  Mesa    AZ       85206  33.379981 -111.68722   \n",
              "1  1959 S Power Rd, Ste 103-238  Mesa    AZ       85206  33.379981 -111.68722   \n",
              "2  1959 S Power Rd, Ste 103-238  Mesa    AZ       85206  33.379981 -111.68722   \n",
              "3  1959 S Power Rd, Ste 103-238  Mesa    AZ       85206  33.379981 -111.68722   \n",
              "4  1959 S Power Rd, Ste 103-238  Mesa    AZ       85206  33.379981 -111.68722   \n",
              "\n",
              "   stars                                         attributes  \\\n",
              "0    5.0  {'ByAppointmentOnly': 'True', 'BusinessAccepts...   \n",
              "1    5.0  {'ByAppointmentOnly': 'True', 'BusinessAccepts...   \n",
              "2    5.0  {'ByAppointmentOnly': 'True', 'BusinessAccepts...   \n",
              "3    5.0  {'ByAppointmentOnly': 'True', 'BusinessAccepts...   \n",
              "4    5.0  {'ByAppointmentOnly': 'True', 'BusinessAccepts...   \n",
              "\n",
              "                                          categories                 user_id  \\\n",
              "0  Automotive, Water Heater Installation/Repair, ...  KGZGa7Hnx6WiAVqtV_uizQ   \n",
              "1  Automotive, Water Heater Installation/Repair, ...  grLyX22No_QBnaqYKlZp7w   \n",
              "2  Automotive, Water Heater Installation/Repair, ...  dyDqkUfU-656q7g4rN7JYw   \n",
              "3  Automotive, Water Heater Installation/Repair, ...  PlidDkCMtxUoTiOc4G8bOQ   \n",
              "4  Automotive, Water Heater Installation/Repair, ...  xjNRs75Q7tnu8MRucTC_zQ   \n",
              "\n",
              "   useful  funny  cool  review_stars  \\\n",
              "0       0      0     0             5   \n",
              "1       4      0     0             5   \n",
              "2      50      1     1             5   \n",
              "3      16      0     0             5   \n",
              "4       0      0     0             5   \n",
              "\n",
              "                                                text                 date  \n",
              "0  Always ready to help us whenever we are in tow...  2018-04-29 23:23:56  \n",
              "1  Agree with the prior reviewers - Eric is top n...  2017-11-12 13:09:39  \n",
              "2  Eric is AWESOME!  He diagnosed problems in my ...  2017-11-02 02:50:11  \n",
              "3  Eric came recommended to us by another RV owne...  2018-09-13 21:44:51  \n",
              "4  Eric is one of the best. He knows the business...  2017-10-18 22:29:22  "
            ],
            "text/html": [
              "\n",
              "  <div id=\"df-9c7bafe3-c443-40bb-ab79-a9a9fac0dee1\" class=\"colab-df-container\">\n",
              "    <div>\n",
              "<style scoped>\n",
              "    .dataframe tbody tr th:only-of-type {\n",
              "        vertical-align: middle;\n",
              "    }\n",
              "\n",
              "    .dataframe tbody tr th {\n",
              "        vertical-align: top;\n",
              "    }\n",
              "\n",
              "    .dataframe thead th {\n",
              "        text-align: right;\n",
              "    }\n",
              "</style>\n",
              "<table border=\"1\" class=\"dataframe\">\n",
              "  <thead>\n",
              "    <tr style=\"text-align: right;\">\n",
              "      <th></th>\n",
              "      <th>Unnamed: 0</th>\n",
              "      <th>business_id</th>\n",
              "      <th>name_x</th>\n",
              "      <th>address</th>\n",
              "      <th>city</th>\n",
              "      <th>state</th>\n",
              "      <th>postal_code</th>\n",
              "      <th>latitude</th>\n",
              "      <th>longitude</th>\n",
              "      <th>stars</th>\n",
              "      <th>attributes</th>\n",
              "      <th>categories</th>\n",
              "      <th>user_id</th>\n",
              "      <th>useful</th>\n",
              "      <th>funny</th>\n",
              "      <th>cool</th>\n",
              "      <th>review_stars</th>\n",
              "      <th>text</th>\n",
              "      <th>date</th>\n",
              "    </tr>\n",
              "  </thead>\n",
              "  <tbody>\n",
              "    <tr>\n",
              "      <th>0</th>\n",
              "      <td>4</td>\n",
              "      <td>SW_bePWPlMZJZGQ4eT9vrA</td>\n",
              "      <td>E's RV Appliance Repair</td>\n",
              "      <td>1959 S Power Rd, Ste 103-238</td>\n",
              "      <td>Mesa</td>\n",
              "      <td>AZ</td>\n",
              "      <td>85206</td>\n",
              "      <td>33.379981</td>\n",
              "      <td>-111.68722</td>\n",
              "      <td>5.0</td>\n",
              "      <td>{'ByAppointmentOnly': 'True', 'BusinessAccepts...</td>\n",
              "      <td>Automotive, Water Heater Installation/Repair, ...</td>\n",
              "      <td>KGZGa7Hnx6WiAVqtV_uizQ</td>\n",
              "      <td>0</td>\n",
              "      <td>0</td>\n",
              "      <td>0</td>\n",
              "      <td>5</td>\n",
              "      <td>Always ready to help us whenever we are in tow...</td>\n",
              "      <td>2018-04-29 23:23:56</td>\n",
              "    </tr>\n",
              "    <tr>\n",
              "      <th>1</th>\n",
              "      <td>7</td>\n",
              "      <td>SW_bePWPlMZJZGQ4eT9vrA</td>\n",
              "      <td>E's RV Appliance Repair</td>\n",
              "      <td>1959 S Power Rd, Ste 103-238</td>\n",
              "      <td>Mesa</td>\n",
              "      <td>AZ</td>\n",
              "      <td>85206</td>\n",
              "      <td>33.379981</td>\n",
              "      <td>-111.68722</td>\n",
              "      <td>5.0</td>\n",
              "      <td>{'ByAppointmentOnly': 'True', 'BusinessAccepts...</td>\n",
              "      <td>Automotive, Water Heater Installation/Repair, ...</td>\n",
              "      <td>grLyX22No_QBnaqYKlZp7w</td>\n",
              "      <td>4</td>\n",
              "      <td>0</td>\n",
              "      <td>0</td>\n",
              "      <td>5</td>\n",
              "      <td>Agree with the prior reviewers - Eric is top n...</td>\n",
              "      <td>2017-11-12 13:09:39</td>\n",
              "    </tr>\n",
              "    <tr>\n",
              "      <th>2</th>\n",
              "      <td>9</td>\n",
              "      <td>SW_bePWPlMZJZGQ4eT9vrA</td>\n",
              "      <td>E's RV Appliance Repair</td>\n",
              "      <td>1959 S Power Rd, Ste 103-238</td>\n",
              "      <td>Mesa</td>\n",
              "      <td>AZ</td>\n",
              "      <td>85206</td>\n",
              "      <td>33.379981</td>\n",
              "      <td>-111.68722</td>\n",
              "      <td>5.0</td>\n",
              "      <td>{'ByAppointmentOnly': 'True', 'BusinessAccepts...</td>\n",
              "      <td>Automotive, Water Heater Installation/Repair, ...</td>\n",
              "      <td>dyDqkUfU-656q7g4rN7JYw</td>\n",
              "      <td>50</td>\n",
              "      <td>1</td>\n",
              "      <td>1</td>\n",
              "      <td>5</td>\n",
              "      <td>Eric is AWESOME!  He diagnosed problems in my ...</td>\n",
              "      <td>2017-11-02 02:50:11</td>\n",
              "    </tr>\n",
              "    <tr>\n",
              "      <th>3</th>\n",
              "      <td>11</td>\n",
              "      <td>SW_bePWPlMZJZGQ4eT9vrA</td>\n",
              "      <td>E's RV Appliance Repair</td>\n",
              "      <td>1959 S Power Rd, Ste 103-238</td>\n",
              "      <td>Mesa</td>\n",
              "      <td>AZ</td>\n",
              "      <td>85206</td>\n",
              "      <td>33.379981</td>\n",
              "      <td>-111.68722</td>\n",
              "      <td>5.0</td>\n",
              "      <td>{'ByAppointmentOnly': 'True', 'BusinessAccepts...</td>\n",
              "      <td>Automotive, Water Heater Installation/Repair, ...</td>\n",
              "      <td>PlidDkCMtxUoTiOc4G8bOQ</td>\n",
              "      <td>16</td>\n",
              "      <td>0</td>\n",
              "      <td>0</td>\n",
              "      <td>5</td>\n",
              "      <td>Eric came recommended to us by another RV owne...</td>\n",
              "      <td>2018-09-13 21:44:51</td>\n",
              "    </tr>\n",
              "    <tr>\n",
              "      <th>4</th>\n",
              "      <td>12</td>\n",
              "      <td>SW_bePWPlMZJZGQ4eT9vrA</td>\n",
              "      <td>E's RV Appliance Repair</td>\n",
              "      <td>1959 S Power Rd, Ste 103-238</td>\n",
              "      <td>Mesa</td>\n",
              "      <td>AZ</td>\n",
              "      <td>85206</td>\n",
              "      <td>33.379981</td>\n",
              "      <td>-111.68722</td>\n",
              "      <td>5.0</td>\n",
              "      <td>{'ByAppointmentOnly': 'True', 'BusinessAccepts...</td>\n",
              "      <td>Automotive, Water Heater Installation/Repair, ...</td>\n",
              "      <td>xjNRs75Q7tnu8MRucTC_zQ</td>\n",
              "      <td>0</td>\n",
              "      <td>0</td>\n",
              "      <td>0</td>\n",
              "      <td>5</td>\n",
              "      <td>Eric is one of the best. He knows the business...</td>\n",
              "      <td>2017-10-18 22:29:22</td>\n",
              "    </tr>\n",
              "  </tbody>\n",
              "</table>\n",
              "</div>\n",
              "    <div class=\"colab-df-buttons\">\n",
              "\n",
              "  <div class=\"colab-df-container\">\n",
              "    <button class=\"colab-df-convert\" onclick=\"convertToInteractive('df-9c7bafe3-c443-40bb-ab79-a9a9fac0dee1')\"\n",
              "            title=\"Convert this dataframe to an interactive table.\"\n",
              "            style=\"display:none;\">\n",
              "\n",
              "  <svg xmlns=\"http://www.w3.org/2000/svg\" height=\"24px\" viewBox=\"0 -960 960 960\">\n",
              "    <path d=\"M120-120v-720h720v720H120Zm60-500h600v-160H180v160Zm220 220h160v-160H400v160Zm0 220h160v-160H400v160ZM180-400h160v-160H180v160Zm440 0h160v-160H620v160ZM180-180h160v-160H180v160Zm440 0h160v-160H620v160Z\"/>\n",
              "  </svg>\n",
              "    </button>\n",
              "\n",
              "  <style>\n",
              "    .colab-df-container {\n",
              "      display:flex;\n",
              "      gap: 12px;\n",
              "    }\n",
              "\n",
              "    .colab-df-convert {\n",
              "      background-color: #E8F0FE;\n",
              "      border: none;\n",
              "      border-radius: 50%;\n",
              "      cursor: pointer;\n",
              "      display: none;\n",
              "      fill: #1967D2;\n",
              "      height: 32px;\n",
              "      padding: 0 0 0 0;\n",
              "      width: 32px;\n",
              "    }\n",
              "\n",
              "    .colab-df-convert:hover {\n",
              "      background-color: #E2EBFA;\n",
              "      box-shadow: 0px 1px 2px rgba(60, 64, 67, 0.3), 0px 1px 3px 1px rgba(60, 64, 67, 0.15);\n",
              "      fill: #174EA6;\n",
              "    }\n",
              "\n",
              "    .colab-df-buttons div {\n",
              "      margin-bottom: 4px;\n",
              "    }\n",
              "\n",
              "    [theme=dark] .colab-df-convert {\n",
              "      background-color: #3B4455;\n",
              "      fill: #D2E3FC;\n",
              "    }\n",
              "\n",
              "    [theme=dark] .colab-df-convert:hover {\n",
              "      background-color: #434B5C;\n",
              "      box-shadow: 0px 1px 3px 1px rgba(0, 0, 0, 0.15);\n",
              "      filter: drop-shadow(0px 1px 2px rgba(0, 0, 0, 0.3));\n",
              "      fill: #FFFFFF;\n",
              "    }\n",
              "  </style>\n",
              "\n",
              "    <script>\n",
              "      const buttonEl =\n",
              "        document.querySelector('#df-9c7bafe3-c443-40bb-ab79-a9a9fac0dee1 button.colab-df-convert');\n",
              "      buttonEl.style.display =\n",
              "        google.colab.kernel.accessAllowed ? 'block' : 'none';\n",
              "\n",
              "      async function convertToInteractive(key) {\n",
              "        const element = document.querySelector('#df-9c7bafe3-c443-40bb-ab79-a9a9fac0dee1');\n",
              "        const dataTable =\n",
              "          await google.colab.kernel.invokeFunction('convertToInteractive',\n",
              "                                                    [key], {});\n",
              "        if (!dataTable) return;\n",
              "\n",
              "        const docLinkHtml = 'Like what you see? Visit the ' +\n",
              "          '<a target=\"_blank\" href=https://colab.research.google.com/notebooks/data_table.ipynb>data table notebook</a>'\n",
              "          + ' to learn more about interactive tables.';\n",
              "        element.innerHTML = '';\n",
              "        dataTable['output_type'] = 'display_data';\n",
              "        await google.colab.output.renderOutput(dataTable, element);\n",
              "        const docLink = document.createElement('div');\n",
              "        docLink.innerHTML = docLinkHtml;\n",
              "        element.appendChild(docLink);\n",
              "      }\n",
              "    </script>\n",
              "  </div>\n",
              "\n",
              "\n",
              "<div id=\"df-5e165f54-8ce9-4bd3-a5bf-838897f0c8cd\">\n",
              "  <button class=\"colab-df-quickchart\" onclick=\"quickchart('df-5e165f54-8ce9-4bd3-a5bf-838897f0c8cd')\"\n",
              "            title=\"Suggest charts.\"\n",
              "            style=\"display:none;\">\n",
              "\n",
              "<svg xmlns=\"http://www.w3.org/2000/svg\" height=\"24px\"viewBox=\"0 0 24 24\"\n",
              "     width=\"24px\">\n",
              "    <g>\n",
              "        <path d=\"M19 3H5c-1.1 0-2 .9-2 2v14c0 1.1.9 2 2 2h14c1.1 0 2-.9 2-2V5c0-1.1-.9-2-2-2zM9 17H7v-7h2v7zm4 0h-2V7h2v10zm4 0h-2v-4h2v4z\"/>\n",
              "    </g>\n",
              "</svg>\n",
              "  </button>\n",
              "\n",
              "<style>\n",
              "  .colab-df-quickchart {\n",
              "    background-color: #E8F0FE;\n",
              "    border: none;\n",
              "    border-radius: 50%;\n",
              "    cursor: pointer;\n",
              "    display: none;\n",
              "    fill: #1967D2;\n",
              "    height: 32px;\n",
              "    padding: 0 0 0 0;\n",
              "    width: 32px;\n",
              "  }\n",
              "\n",
              "  .colab-df-quickchart:hover {\n",
              "    background-color: #E2EBFA;\n",
              "    box-shadow: 0px 1px 2px rgba(60, 64, 67, 0.3), 0px 1px 3px 1px rgba(60, 64, 67, 0.15);\n",
              "    fill: #174EA6;\n",
              "  }\n",
              "\n",
              "  [theme=dark] .colab-df-quickchart {\n",
              "    background-color: #3B4455;\n",
              "    fill: #D2E3FC;\n",
              "  }\n",
              "\n",
              "  [theme=dark] .colab-df-quickchart:hover {\n",
              "    background-color: #434B5C;\n",
              "    box-shadow: 0px 1px 3px 1px rgba(0, 0, 0, 0.15);\n",
              "    filter: drop-shadow(0px 1px 2px rgba(0, 0, 0, 0.3));\n",
              "    fill: #FFFFFF;\n",
              "  }\n",
              "</style>\n",
              "\n",
              "  <script>\n",
              "    async function quickchart(key) {\n",
              "      const charts = await google.colab.kernel.invokeFunction(\n",
              "          'suggestCharts', [key], {});\n",
              "    }\n",
              "    (() => {\n",
              "      let quickchartButtonEl =\n",
              "        document.querySelector('#df-5e165f54-8ce9-4bd3-a5bf-838897f0c8cd button');\n",
              "      quickchartButtonEl.style.display =\n",
              "        google.colab.kernel.accessAllowed ? 'block' : 'none';\n",
              "    })();\n",
              "  </script>\n",
              "</div>\n",
              "    </div>\n",
              "  </div>\n"
            ]
          },
          "metadata": {},
          "execution_count": 3
        }
      ]
    },
    {
      "cell_type": "code",
      "source": [
        "bins = [0,1,3,5]\n",
        "review_names = ['bad', 'average', 'good']\n",
        "yelp_reviews['reviews_score'] = pd.cut(yelp_reviews['stars'], bins, labels=review_names)"
      ],
      "metadata": {
        "id": "yj2XA3Aog_oG"
      },
      "execution_count": null,
      "outputs": []
    },
    {
      "cell_type": "code",
      "source": [
        "yelp_reviews.isnull().values.any()\n",
        "\n",
        "print(yelp_reviews.shape)\n",
        "\n",
        "yelp_reviews.head()"
      ],
      "metadata": {
        "colab": {
          "base_uri": "https://localhost:8080/",
          "height": 556
        },
        "id": "J3973KWop4YD",
        "outputId": "913513af-bd88-45ca-d1ae-851bb1bc4937"
      },
      "execution_count": null,
      "outputs": [
        {
          "output_type": "stream",
          "name": "stdout",
          "text": [
            "(2974, 20)\n"
          ]
        },
        {
          "output_type": "execute_result",
          "data": {
            "text/plain": [
              "   Unnamed: 0             business_id                   name_x  \\\n",
              "0           4  SW_bePWPlMZJZGQ4eT9vrA  E's RV Appliance Repair   \n",
              "1           7  SW_bePWPlMZJZGQ4eT9vrA  E's RV Appliance Repair   \n",
              "2           9  SW_bePWPlMZJZGQ4eT9vrA  E's RV Appliance Repair   \n",
              "3          11  SW_bePWPlMZJZGQ4eT9vrA  E's RV Appliance Repair   \n",
              "4          12  SW_bePWPlMZJZGQ4eT9vrA  E's RV Appliance Repair   \n",
              "\n",
              "                        address  city state postal_code   latitude  longitude  \\\n",
              "0  1959 S Power Rd, Ste 103-238  Mesa    AZ       85206  33.379981 -111.68722   \n",
              "1  1959 S Power Rd, Ste 103-238  Mesa    AZ       85206  33.379981 -111.68722   \n",
              "2  1959 S Power Rd, Ste 103-238  Mesa    AZ       85206  33.379981 -111.68722   \n",
              "3  1959 S Power Rd, Ste 103-238  Mesa    AZ       85206  33.379981 -111.68722   \n",
              "4  1959 S Power Rd, Ste 103-238  Mesa    AZ       85206  33.379981 -111.68722   \n",
              "\n",
              "   stars                                         attributes  \\\n",
              "0    5.0  {'ByAppointmentOnly': 'True', 'BusinessAccepts...   \n",
              "1    5.0  {'ByAppointmentOnly': 'True', 'BusinessAccepts...   \n",
              "2    5.0  {'ByAppointmentOnly': 'True', 'BusinessAccepts...   \n",
              "3    5.0  {'ByAppointmentOnly': 'True', 'BusinessAccepts...   \n",
              "4    5.0  {'ByAppointmentOnly': 'True', 'BusinessAccepts...   \n",
              "\n",
              "                                          categories                 user_id  \\\n",
              "0  Automotive, Water Heater Installation/Repair, ...  KGZGa7Hnx6WiAVqtV_uizQ   \n",
              "1  Automotive, Water Heater Installation/Repair, ...  grLyX22No_QBnaqYKlZp7w   \n",
              "2  Automotive, Water Heater Installation/Repair, ...  dyDqkUfU-656q7g4rN7JYw   \n",
              "3  Automotive, Water Heater Installation/Repair, ...  PlidDkCMtxUoTiOc4G8bOQ   \n",
              "4  Automotive, Water Heater Installation/Repair, ...  xjNRs75Q7tnu8MRucTC_zQ   \n",
              "\n",
              "   useful  funny  cool  review_stars  \\\n",
              "0       0      0     0             5   \n",
              "1       4      0     0             5   \n",
              "2      50      1     1             5   \n",
              "3      16      0     0             5   \n",
              "4       0      0     0             5   \n",
              "\n",
              "                                                text                 date  \\\n",
              "0  Always ready to help us whenever we are in tow...  2018-04-29 23:23:56   \n",
              "1  Agree with the prior reviewers - Eric is top n...  2017-11-12 13:09:39   \n",
              "2  Eric is AWESOME!  He diagnosed problems in my ...  2017-11-02 02:50:11   \n",
              "3  Eric came recommended to us by another RV owne...  2018-09-13 21:44:51   \n",
              "4  Eric is one of the best. He knows the business...  2017-10-18 22:29:22   \n",
              "\n",
              "  reviews_score  \n",
              "0          good  \n",
              "1          good  \n",
              "2          good  \n",
              "3          good  \n",
              "4          good  "
            ],
            "text/html": [
              "\n",
              "  <div id=\"df-b672c832-5927-4773-bc6f-f9f80bc47677\" class=\"colab-df-container\">\n",
              "    <div>\n",
              "<style scoped>\n",
              "    .dataframe tbody tr th:only-of-type {\n",
              "        vertical-align: middle;\n",
              "    }\n",
              "\n",
              "    .dataframe tbody tr th {\n",
              "        vertical-align: top;\n",
              "    }\n",
              "\n",
              "    .dataframe thead th {\n",
              "        text-align: right;\n",
              "    }\n",
              "</style>\n",
              "<table border=\"1\" class=\"dataframe\">\n",
              "  <thead>\n",
              "    <tr style=\"text-align: right;\">\n",
              "      <th></th>\n",
              "      <th>Unnamed: 0</th>\n",
              "      <th>business_id</th>\n",
              "      <th>name_x</th>\n",
              "      <th>address</th>\n",
              "      <th>city</th>\n",
              "      <th>state</th>\n",
              "      <th>postal_code</th>\n",
              "      <th>latitude</th>\n",
              "      <th>longitude</th>\n",
              "      <th>stars</th>\n",
              "      <th>attributes</th>\n",
              "      <th>categories</th>\n",
              "      <th>user_id</th>\n",
              "      <th>useful</th>\n",
              "      <th>funny</th>\n",
              "      <th>cool</th>\n",
              "      <th>review_stars</th>\n",
              "      <th>text</th>\n",
              "      <th>date</th>\n",
              "      <th>reviews_score</th>\n",
              "    </tr>\n",
              "  </thead>\n",
              "  <tbody>\n",
              "    <tr>\n",
              "      <th>0</th>\n",
              "      <td>4</td>\n",
              "      <td>SW_bePWPlMZJZGQ4eT9vrA</td>\n",
              "      <td>E's RV Appliance Repair</td>\n",
              "      <td>1959 S Power Rd, Ste 103-238</td>\n",
              "      <td>Mesa</td>\n",
              "      <td>AZ</td>\n",
              "      <td>85206</td>\n",
              "      <td>33.379981</td>\n",
              "      <td>-111.68722</td>\n",
              "      <td>5.0</td>\n",
              "      <td>{'ByAppointmentOnly': 'True', 'BusinessAccepts...</td>\n",
              "      <td>Automotive, Water Heater Installation/Repair, ...</td>\n",
              "      <td>KGZGa7Hnx6WiAVqtV_uizQ</td>\n",
              "      <td>0</td>\n",
              "      <td>0</td>\n",
              "      <td>0</td>\n",
              "      <td>5</td>\n",
              "      <td>Always ready to help us whenever we are in tow...</td>\n",
              "      <td>2018-04-29 23:23:56</td>\n",
              "      <td>good</td>\n",
              "    </tr>\n",
              "    <tr>\n",
              "      <th>1</th>\n",
              "      <td>7</td>\n",
              "      <td>SW_bePWPlMZJZGQ4eT9vrA</td>\n",
              "      <td>E's RV Appliance Repair</td>\n",
              "      <td>1959 S Power Rd, Ste 103-238</td>\n",
              "      <td>Mesa</td>\n",
              "      <td>AZ</td>\n",
              "      <td>85206</td>\n",
              "      <td>33.379981</td>\n",
              "      <td>-111.68722</td>\n",
              "      <td>5.0</td>\n",
              "      <td>{'ByAppointmentOnly': 'True', 'BusinessAccepts...</td>\n",
              "      <td>Automotive, Water Heater Installation/Repair, ...</td>\n",
              "      <td>grLyX22No_QBnaqYKlZp7w</td>\n",
              "      <td>4</td>\n",
              "      <td>0</td>\n",
              "      <td>0</td>\n",
              "      <td>5</td>\n",
              "      <td>Agree with the prior reviewers - Eric is top n...</td>\n",
              "      <td>2017-11-12 13:09:39</td>\n",
              "      <td>good</td>\n",
              "    </tr>\n",
              "    <tr>\n",
              "      <th>2</th>\n",
              "      <td>9</td>\n",
              "      <td>SW_bePWPlMZJZGQ4eT9vrA</td>\n",
              "      <td>E's RV Appliance Repair</td>\n",
              "      <td>1959 S Power Rd, Ste 103-238</td>\n",
              "      <td>Mesa</td>\n",
              "      <td>AZ</td>\n",
              "      <td>85206</td>\n",
              "      <td>33.379981</td>\n",
              "      <td>-111.68722</td>\n",
              "      <td>5.0</td>\n",
              "      <td>{'ByAppointmentOnly': 'True', 'BusinessAccepts...</td>\n",
              "      <td>Automotive, Water Heater Installation/Repair, ...</td>\n",
              "      <td>dyDqkUfU-656q7g4rN7JYw</td>\n",
              "      <td>50</td>\n",
              "      <td>1</td>\n",
              "      <td>1</td>\n",
              "      <td>5</td>\n",
              "      <td>Eric is AWESOME!  He diagnosed problems in my ...</td>\n",
              "      <td>2017-11-02 02:50:11</td>\n",
              "      <td>good</td>\n",
              "    </tr>\n",
              "    <tr>\n",
              "      <th>3</th>\n",
              "      <td>11</td>\n",
              "      <td>SW_bePWPlMZJZGQ4eT9vrA</td>\n",
              "      <td>E's RV Appliance Repair</td>\n",
              "      <td>1959 S Power Rd, Ste 103-238</td>\n",
              "      <td>Mesa</td>\n",
              "      <td>AZ</td>\n",
              "      <td>85206</td>\n",
              "      <td>33.379981</td>\n",
              "      <td>-111.68722</td>\n",
              "      <td>5.0</td>\n",
              "      <td>{'ByAppointmentOnly': 'True', 'BusinessAccepts...</td>\n",
              "      <td>Automotive, Water Heater Installation/Repair, ...</td>\n",
              "      <td>PlidDkCMtxUoTiOc4G8bOQ</td>\n",
              "      <td>16</td>\n",
              "      <td>0</td>\n",
              "      <td>0</td>\n",
              "      <td>5</td>\n",
              "      <td>Eric came recommended to us by another RV owne...</td>\n",
              "      <td>2018-09-13 21:44:51</td>\n",
              "      <td>good</td>\n",
              "    </tr>\n",
              "    <tr>\n",
              "      <th>4</th>\n",
              "      <td>12</td>\n",
              "      <td>SW_bePWPlMZJZGQ4eT9vrA</td>\n",
              "      <td>E's RV Appliance Repair</td>\n",
              "      <td>1959 S Power Rd, Ste 103-238</td>\n",
              "      <td>Mesa</td>\n",
              "      <td>AZ</td>\n",
              "      <td>85206</td>\n",
              "      <td>33.379981</td>\n",
              "      <td>-111.68722</td>\n",
              "      <td>5.0</td>\n",
              "      <td>{'ByAppointmentOnly': 'True', 'BusinessAccepts...</td>\n",
              "      <td>Automotive, Water Heater Installation/Repair, ...</td>\n",
              "      <td>xjNRs75Q7tnu8MRucTC_zQ</td>\n",
              "      <td>0</td>\n",
              "      <td>0</td>\n",
              "      <td>0</td>\n",
              "      <td>5</td>\n",
              "      <td>Eric is one of the best. He knows the business...</td>\n",
              "      <td>2017-10-18 22:29:22</td>\n",
              "      <td>good</td>\n",
              "    </tr>\n",
              "  </tbody>\n",
              "</table>\n",
              "</div>\n",
              "    <div class=\"colab-df-buttons\">\n",
              "\n",
              "  <div class=\"colab-df-container\">\n",
              "    <button class=\"colab-df-convert\" onclick=\"convertToInteractive('df-b672c832-5927-4773-bc6f-f9f80bc47677')\"\n",
              "            title=\"Convert this dataframe to an interactive table.\"\n",
              "            style=\"display:none;\">\n",
              "\n",
              "  <svg xmlns=\"http://www.w3.org/2000/svg\" height=\"24px\" viewBox=\"0 -960 960 960\">\n",
              "    <path d=\"M120-120v-720h720v720H120Zm60-500h600v-160H180v160Zm220 220h160v-160H400v160Zm0 220h160v-160H400v160ZM180-400h160v-160H180v160Zm440 0h160v-160H620v160ZM180-180h160v-160H180v160Zm440 0h160v-160H620v160Z\"/>\n",
              "  </svg>\n",
              "    </button>\n",
              "\n",
              "  <style>\n",
              "    .colab-df-container {\n",
              "      display:flex;\n",
              "      gap: 12px;\n",
              "    }\n",
              "\n",
              "    .colab-df-convert {\n",
              "      background-color: #E8F0FE;\n",
              "      border: none;\n",
              "      border-radius: 50%;\n",
              "      cursor: pointer;\n",
              "      display: none;\n",
              "      fill: #1967D2;\n",
              "      height: 32px;\n",
              "      padding: 0 0 0 0;\n",
              "      width: 32px;\n",
              "    }\n",
              "\n",
              "    .colab-df-convert:hover {\n",
              "      background-color: #E2EBFA;\n",
              "      box-shadow: 0px 1px 2px rgba(60, 64, 67, 0.3), 0px 1px 3px 1px rgba(60, 64, 67, 0.15);\n",
              "      fill: #174EA6;\n",
              "    }\n",
              "\n",
              "    .colab-df-buttons div {\n",
              "      margin-bottom: 4px;\n",
              "    }\n",
              "\n",
              "    [theme=dark] .colab-df-convert {\n",
              "      background-color: #3B4455;\n",
              "      fill: #D2E3FC;\n",
              "    }\n",
              "\n",
              "    [theme=dark] .colab-df-convert:hover {\n",
              "      background-color: #434B5C;\n",
              "      box-shadow: 0px 1px 3px 1px rgba(0, 0, 0, 0.15);\n",
              "      filter: drop-shadow(0px 1px 2px rgba(0, 0, 0, 0.3));\n",
              "      fill: #FFFFFF;\n",
              "    }\n",
              "  </style>\n",
              "\n",
              "    <script>\n",
              "      const buttonEl =\n",
              "        document.querySelector('#df-b672c832-5927-4773-bc6f-f9f80bc47677 button.colab-df-convert');\n",
              "      buttonEl.style.display =\n",
              "        google.colab.kernel.accessAllowed ? 'block' : 'none';\n",
              "\n",
              "      async function convertToInteractive(key) {\n",
              "        const element = document.querySelector('#df-b672c832-5927-4773-bc6f-f9f80bc47677');\n",
              "        const dataTable =\n",
              "          await google.colab.kernel.invokeFunction('convertToInteractive',\n",
              "                                                    [key], {});\n",
              "        if (!dataTable) return;\n",
              "\n",
              "        const docLinkHtml = 'Like what you see? Visit the ' +\n",
              "          '<a target=\"_blank\" href=https://colab.research.google.com/notebooks/data_table.ipynb>data table notebook</a>'\n",
              "          + ' to learn more about interactive tables.';\n",
              "        element.innerHTML = '';\n",
              "        dataTable['output_type'] = 'display_data';\n",
              "        await google.colab.output.renderOutput(dataTable, element);\n",
              "        const docLink = document.createElement('div');\n",
              "        docLink.innerHTML = docLinkHtml;\n",
              "        element.appendChild(docLink);\n",
              "      }\n",
              "    </script>\n",
              "  </div>\n",
              "\n",
              "\n",
              "<div id=\"df-328055b4-f0de-4706-824b-01ea432a158f\">\n",
              "  <button class=\"colab-df-quickchart\" onclick=\"quickchart('df-328055b4-f0de-4706-824b-01ea432a158f')\"\n",
              "            title=\"Suggest charts.\"\n",
              "            style=\"display:none;\">\n",
              "\n",
              "<svg xmlns=\"http://www.w3.org/2000/svg\" height=\"24px\"viewBox=\"0 0 24 24\"\n",
              "     width=\"24px\">\n",
              "    <g>\n",
              "        <path d=\"M19 3H5c-1.1 0-2 .9-2 2v14c0 1.1.9 2 2 2h14c1.1 0 2-.9 2-2V5c0-1.1-.9-2-2-2zM9 17H7v-7h2v7zm4 0h-2V7h2v10zm4 0h-2v-4h2v4z\"/>\n",
              "    </g>\n",
              "</svg>\n",
              "  </button>\n",
              "\n",
              "<style>\n",
              "  .colab-df-quickchart {\n",
              "    background-color: #E8F0FE;\n",
              "    border: none;\n",
              "    border-radius: 50%;\n",
              "    cursor: pointer;\n",
              "    display: none;\n",
              "    fill: #1967D2;\n",
              "    height: 32px;\n",
              "    padding: 0 0 0 0;\n",
              "    width: 32px;\n",
              "  }\n",
              "\n",
              "  .colab-df-quickchart:hover {\n",
              "    background-color: #E2EBFA;\n",
              "    box-shadow: 0px 1px 2px rgba(60, 64, 67, 0.3), 0px 1px 3px 1px rgba(60, 64, 67, 0.15);\n",
              "    fill: #174EA6;\n",
              "  }\n",
              "\n",
              "  [theme=dark] .colab-df-quickchart {\n",
              "    background-color: #3B4455;\n",
              "    fill: #D2E3FC;\n",
              "  }\n",
              "\n",
              "  [theme=dark] .colab-df-quickchart:hover {\n",
              "    background-color: #434B5C;\n",
              "    box-shadow: 0px 1px 3px 1px rgba(0, 0, 0, 0.15);\n",
              "    filter: drop-shadow(0px 1px 2px rgba(0, 0, 0, 0.3));\n",
              "    fill: #FFFFFF;\n",
              "  }\n",
              "</style>\n",
              "\n",
              "  <script>\n",
              "    async function quickchart(key) {\n",
              "      const charts = await google.colab.kernel.invokeFunction(\n",
              "          'suggestCharts', [key], {});\n",
              "    }\n",
              "    (() => {\n",
              "      let quickchartButtonEl =\n",
              "        document.querySelector('#df-328055b4-f0de-4706-824b-01ea432a158f button');\n",
              "      quickchartButtonEl.style.display =\n",
              "        google.colab.kernel.accessAllowed ? 'block' : 'none';\n",
              "    })();\n",
              "  </script>\n",
              "</div>\n",
              "    </div>\n",
              "  </div>\n"
            ]
          },
          "metadata": {},
          "execution_count": 5
        }
      ]
    },
    {
      "cell_type": "code",
      "source": [
        "yelp_reviews[['stars','reviews_score']].head(5)"
      ],
      "metadata": {
        "colab": {
          "base_uri": "https://localhost:8080/",
          "height": 206
        },
        "id": "B0C5nhQErtSN",
        "outputId": "059fe6aa-7816-4769-83eb-fba15c616fae"
      },
      "execution_count": null,
      "outputs": [
        {
          "output_type": "execute_result",
          "data": {
            "text/plain": [
              "   stars reviews_score\n",
              "0    5.0          good\n",
              "1    5.0          good\n",
              "2    5.0          good\n",
              "3    5.0          good\n",
              "4    5.0          good"
            ],
            "text/html": [
              "\n",
              "  <div id=\"df-1f762101-06a3-43de-bb07-823636d3bf53\" class=\"colab-df-container\">\n",
              "    <div>\n",
              "<style scoped>\n",
              "    .dataframe tbody tr th:only-of-type {\n",
              "        vertical-align: middle;\n",
              "    }\n",
              "\n",
              "    .dataframe tbody tr th {\n",
              "        vertical-align: top;\n",
              "    }\n",
              "\n",
              "    .dataframe thead th {\n",
              "        text-align: right;\n",
              "    }\n",
              "</style>\n",
              "<table border=\"1\" class=\"dataframe\">\n",
              "  <thead>\n",
              "    <tr style=\"text-align: right;\">\n",
              "      <th></th>\n",
              "      <th>stars</th>\n",
              "      <th>reviews_score</th>\n",
              "    </tr>\n",
              "  </thead>\n",
              "  <tbody>\n",
              "    <tr>\n",
              "      <th>0</th>\n",
              "      <td>5.0</td>\n",
              "      <td>good</td>\n",
              "    </tr>\n",
              "    <tr>\n",
              "      <th>1</th>\n",
              "      <td>5.0</td>\n",
              "      <td>good</td>\n",
              "    </tr>\n",
              "    <tr>\n",
              "      <th>2</th>\n",
              "      <td>5.0</td>\n",
              "      <td>good</td>\n",
              "    </tr>\n",
              "    <tr>\n",
              "      <th>3</th>\n",
              "      <td>5.0</td>\n",
              "      <td>good</td>\n",
              "    </tr>\n",
              "    <tr>\n",
              "      <th>4</th>\n",
              "      <td>5.0</td>\n",
              "      <td>good</td>\n",
              "    </tr>\n",
              "  </tbody>\n",
              "</table>\n",
              "</div>\n",
              "    <div class=\"colab-df-buttons\">\n",
              "\n",
              "  <div class=\"colab-df-container\">\n",
              "    <button class=\"colab-df-convert\" onclick=\"convertToInteractive('df-1f762101-06a3-43de-bb07-823636d3bf53')\"\n",
              "            title=\"Convert this dataframe to an interactive table.\"\n",
              "            style=\"display:none;\">\n",
              "\n",
              "  <svg xmlns=\"http://www.w3.org/2000/svg\" height=\"24px\" viewBox=\"0 -960 960 960\">\n",
              "    <path d=\"M120-120v-720h720v720H120Zm60-500h600v-160H180v160Zm220 220h160v-160H400v160Zm0 220h160v-160H400v160ZM180-400h160v-160H180v160Zm440 0h160v-160H620v160ZM180-180h160v-160H180v160Zm440 0h160v-160H620v160Z\"/>\n",
              "  </svg>\n",
              "    </button>\n",
              "\n",
              "  <style>\n",
              "    .colab-df-container {\n",
              "      display:flex;\n",
              "      gap: 12px;\n",
              "    }\n",
              "\n",
              "    .colab-df-convert {\n",
              "      background-color: #E8F0FE;\n",
              "      border: none;\n",
              "      border-radius: 50%;\n",
              "      cursor: pointer;\n",
              "      display: none;\n",
              "      fill: #1967D2;\n",
              "      height: 32px;\n",
              "      padding: 0 0 0 0;\n",
              "      width: 32px;\n",
              "    }\n",
              "\n",
              "    .colab-df-convert:hover {\n",
              "      background-color: #E2EBFA;\n",
              "      box-shadow: 0px 1px 2px rgba(60, 64, 67, 0.3), 0px 1px 3px 1px rgba(60, 64, 67, 0.15);\n",
              "      fill: #174EA6;\n",
              "    }\n",
              "\n",
              "    .colab-df-buttons div {\n",
              "      margin-bottom: 4px;\n",
              "    }\n",
              "\n",
              "    [theme=dark] .colab-df-convert {\n",
              "      background-color: #3B4455;\n",
              "      fill: #D2E3FC;\n",
              "    }\n",
              "\n",
              "    [theme=dark] .colab-df-convert:hover {\n",
              "      background-color: #434B5C;\n",
              "      box-shadow: 0px 1px 3px 1px rgba(0, 0, 0, 0.15);\n",
              "      filter: drop-shadow(0px 1px 2px rgba(0, 0, 0, 0.3));\n",
              "      fill: #FFFFFF;\n",
              "    }\n",
              "  </style>\n",
              "\n",
              "    <script>\n",
              "      const buttonEl =\n",
              "        document.querySelector('#df-1f762101-06a3-43de-bb07-823636d3bf53 button.colab-df-convert');\n",
              "      buttonEl.style.display =\n",
              "        google.colab.kernel.accessAllowed ? 'block' : 'none';\n",
              "\n",
              "      async function convertToInteractive(key) {\n",
              "        const element = document.querySelector('#df-1f762101-06a3-43de-bb07-823636d3bf53');\n",
              "        const dataTable =\n",
              "          await google.colab.kernel.invokeFunction('convertToInteractive',\n",
              "                                                    [key], {});\n",
              "        if (!dataTable) return;\n",
              "\n",
              "        const docLinkHtml = 'Like what you see? Visit the ' +\n",
              "          '<a target=\"_blank\" href=https://colab.research.google.com/notebooks/data_table.ipynb>data table notebook</a>'\n",
              "          + ' to learn more about interactive tables.';\n",
              "        element.innerHTML = '';\n",
              "        dataTable['output_type'] = 'display_data';\n",
              "        await google.colab.output.renderOutput(dataTable, element);\n",
              "        const docLink = document.createElement('div');\n",
              "        docLink.innerHTML = docLinkHtml;\n",
              "        element.appendChild(docLink);\n",
              "      }\n",
              "    </script>\n",
              "  </div>\n",
              "\n",
              "\n",
              "<div id=\"df-7d19c521-e829-4157-a198-268bcc347bf7\">\n",
              "  <button class=\"colab-df-quickchart\" onclick=\"quickchart('df-7d19c521-e829-4157-a198-268bcc347bf7')\"\n",
              "            title=\"Suggest charts.\"\n",
              "            style=\"display:none;\">\n",
              "\n",
              "<svg xmlns=\"http://www.w3.org/2000/svg\" height=\"24px\"viewBox=\"0 0 24 24\"\n",
              "     width=\"24px\">\n",
              "    <g>\n",
              "        <path d=\"M19 3H5c-1.1 0-2 .9-2 2v14c0 1.1.9 2 2 2h14c1.1 0 2-.9 2-2V5c0-1.1-.9-2-2-2zM9 17H7v-7h2v7zm4 0h-2V7h2v10zm4 0h-2v-4h2v4z\"/>\n",
              "    </g>\n",
              "</svg>\n",
              "  </button>\n",
              "\n",
              "<style>\n",
              "  .colab-df-quickchart {\n",
              "    background-color: #E8F0FE;\n",
              "    border: none;\n",
              "    border-radius: 50%;\n",
              "    cursor: pointer;\n",
              "    display: none;\n",
              "    fill: #1967D2;\n",
              "    height: 32px;\n",
              "    padding: 0 0 0 0;\n",
              "    width: 32px;\n",
              "  }\n",
              "\n",
              "  .colab-df-quickchart:hover {\n",
              "    background-color: #E2EBFA;\n",
              "    box-shadow: 0px 1px 2px rgba(60, 64, 67, 0.3), 0px 1px 3px 1px rgba(60, 64, 67, 0.15);\n",
              "    fill: #174EA6;\n",
              "  }\n",
              "\n",
              "  [theme=dark] .colab-df-quickchart {\n",
              "    background-color: #3B4455;\n",
              "    fill: #D2E3FC;\n",
              "  }\n",
              "\n",
              "  [theme=dark] .colab-df-quickchart:hover {\n",
              "    background-color: #434B5C;\n",
              "    box-shadow: 0px 1px 3px 1px rgba(0, 0, 0, 0.15);\n",
              "    filter: drop-shadow(0px 1px 2px rgba(0, 0, 0, 0.3));\n",
              "    fill: #FFFFFF;\n",
              "  }\n",
              "</style>\n",
              "\n",
              "  <script>\n",
              "    async function quickchart(key) {\n",
              "      const charts = await google.colab.kernel.invokeFunction(\n",
              "          'suggestCharts', [key], {});\n",
              "    }\n",
              "    (() => {\n",
              "      let quickchartButtonEl =\n",
              "        document.querySelector('#df-7d19c521-e829-4157-a198-268bcc347bf7 button');\n",
              "      quickchartButtonEl.style.display =\n",
              "        google.colab.kernel.accessAllowed ? 'block' : 'none';\n",
              "    })();\n",
              "  </script>\n",
              "</div>\n",
              "    </div>\n",
              "  </div>\n"
            ]
          },
          "metadata": {},
          "execution_count": 6
        }
      ]
    },
    {
      "cell_type": "code",
      "source": [
        "print(yelp_reviews[\"text\"][3])"
      ],
      "metadata": {
        "colab": {
          "base_uri": "https://localhost:8080/"
        },
        "id": "UGIRc3yTg_q6",
        "outputId": "0d96fc70-f3cd-4d9b-87be-df8546f78d2b"
      },
      "execution_count": null,
      "outputs": [
        {
          "output_type": "stream",
          "name": "stdout",
          "text": [
            "Eric came recommended to us by another RV owner. She said he was the best. She's right. He is knowledgeable and honest, and we wouldn't dream of calling anyone else for RV repairs or questions. Highly recommended.\n"
          ]
        }
      ]
    },
    {
      "cell_type": "code",
      "source": [
        "import seaborn as sns\n",
        "\n",
        "sns.countplot(x='reviews_score', data=yelp_reviews)"
      ],
      "metadata": {
        "colab": {
          "base_uri": "https://localhost:8080/",
          "height": 467
        },
        "id": "3hruMnHbg_tQ",
        "outputId": "609eb5dd-464a-44f1-8528-0327fc309055"
      },
      "execution_count": null,
      "outputs": [
        {
          "output_type": "execute_result",
          "data": {
            "text/plain": [
              "<Axes: xlabel='reviews_score', ylabel='count'>"
            ]
          },
          "metadata": {},
          "execution_count": 8
        },
        {
          "output_type": "display_data",
          "data": {
            "text/plain": [
              "<Figure size 640x480 with 1 Axes>"
            ],
            "image/png": "[encoded data removed]"
          },
          "metadata": {}
        }
      ]
    },
    {
      "cell_type": "code",
      "source": [
        "def preprocess_text(sen):\n",
        "\n",
        "    # Remove punctuations and numbers\n",
        "    sentence = re.sub('[^a-zA-Z]', ' ', sen)\n",
        "\n",
        "    # Single character removal\n",
        "    sentence = re.sub(r\"\\s+[a-zA-Z]\\s+\", ' ', sentence)\n",
        "\n",
        "    # Removing multiple spaces\n",
        "    sentence = re.sub(r'\\s+', ' ', sentence)\n",
        "\n",
        "    return sentence"
      ],
      "metadata": {
        "id": "4uIJcY4Tg_wP"
      },
      "execution_count": null,
      "outputs": []
    },
    {
      "cell_type": "code",
      "source": [
        "X = []\n",
        "sentences = list(yelp_reviews[\"text\"])\n",
        "X = []\n",
        "sentences = list(yelp_reviews[\"text\"])\n",
        "for sen in sentences:\n",
        "    X.append(preprocess_text(sen))\n",
        "\n",
        "y = yelp_reviews['reviews_score']"
      ],
      "metadata": {
        "id": "bK3-tqKiqbPF"
      },
      "execution_count": null,
      "outputs": []
    },
    {
      "cell_type": "code",
      "source": [
        "y[:3]"
      ],
      "metadata": {
        "colab": {
          "base_uri": "https://localhost:8080/"
        },
        "id": "QfzlIXS7qbRj",
        "outputId": "3e67aca3-69bc-481e-a599-f13c7602e586"
      },
      "execution_count": null,
      "outputs": [
        {
          "output_type": "execute_result",
          "data": {
            "text/plain": [
              "0    good\n",
              "1    good\n",
              "2    good\n",
              "Name: reviews_score, dtype: category\n",
              "Categories (3, object): ['bad' < 'average' < 'good']"
            ]
          },
          "metadata": {},
          "execution_count": 11
        }
      ]
    },
    {
      "cell_type": "code",
      "source": [
        "from sklearn import preprocessing\n",
        "\n",
        "# label_encoder object knows how to understand word labels.\n",
        "label_encoder = preprocessing.LabelEncoder()\n",
        "\n",
        "# Encode labels in column 'species'.\n",
        "y = label_encoder.fit_transform(y)"
      ],
      "metadata": {
        "id": "K0PQ0LTxqbUE"
      },
      "execution_count": null,
      "outputs": []
    },
    {
      "cell_type": "code",
      "source": [
        "y[:5]"
      ],
      "metadata": {
        "colab": {
          "base_uri": "https://localhost:8080/"
        },
        "id": "WjFPz-9JqbWk",
        "outputId": "68f27fa8-5ee8-4f93-98fd-9d15aee9e3ae"
      },
      "execution_count": null,
      "outputs": [
        {
          "output_type": "execute_result",
          "data": {
            "text/plain": [
              "array([2, 2, 2, 2, 2])"
            ]
          },
          "metadata": {},
          "execution_count": 13
        }
      ]
    },
    {
      "cell_type": "code",
      "source": [
        "X[0:2]"
      ],
      "metadata": {
        "colab": {
          "base_uri": "https://localhost:8080/"
        },
        "id": "AGS4_gFDqbZl",
        "outputId": "a1cc1c5b-dc68-4598-f06f-7991e7040bd8"
      },
      "execution_count": null,
      "outputs": [
        {
          "output_type": "execute_result",
          "data": {
            "text/plain": [
              "['Always ready to help us whenever we are in town Knowledgeable honest and shows up when he says Eric is the man to call James Carrie Cameron',\n",
              " 'Agree with the prior reviewers Eric is top notch in knowledge and service Had to remove the kitchen island in our fifth wheel just to get the frig out for repair Tight timeframe and required two appoints for the removal and then days later the replacement Still he fit us in despite very busy schedule and was educating me with how to tips the entire time he was here His local network is vast too Awesome guy to work with and competitive fees ']"
            ]
          },
          "metadata": {},
          "execution_count": 14
        }
      ]
    },
    {
      "cell_type": "code",
      "source": [
        "X_train, X_test, y_train, y_test = train_test_split(X, y, test_size=0.20, random_state=42)"
      ],
      "metadata": {
        "id": "Zyoo1cx1g_yx"
      },
      "execution_count": null,
      "outputs": []
    },
    {
      "cell_type": "code",
      "source": [
        "y_train"
      ],
      "metadata": {
        "colab": {
          "base_uri": "https://localhost:8080/"
        },
        "id": "FAhnUF-_AG2E",
        "outputId": "965a3867-d6d1-4fce-bd1c-3d36c2ac4197"
      },
      "execution_count": null,
      "outputs": [
        {
          "output_type": "execute_result",
          "data": {
            "text/plain": [
              "array([0, 2, 0, ..., 2, 2, 0])"
            ]
          },
          "metadata": {},
          "execution_count": 16
        }
      ]
    },
    {
      "cell_type": "code",
      "source": [
        "from keras.utils import to_categorical\n",
        "y_train = to_categorical(y_train)\n",
        "y_test = to_categorical(y_test)"
      ],
      "metadata": {
        "id": "nZZk9mO4g_1e"
      },
      "execution_count": null,
      "outputs": []
    },
    {
      "cell_type": "code",
      "source": [
        "y_train"
      ],
      "metadata": {
        "colab": {
          "base_uri": "https://localhost:8080/"
        },
        "id": "A8kBXWdFACHV",
        "outputId": "83f395bf-c164-43b8-c005-c0483ddb0b72"
      },
      "execution_count": null,
      "outputs": [
        {
          "output_type": "execute_result",
          "data": {
            "text/plain": [
              "array([[1., 0., 0.],\n",
              "       [0., 0., 1.],\n",
              "       [1., 0., 0.],\n",
              "       ...,\n",
              "       [0., 0., 1.],\n",
              "       [0., 0., 1.],\n",
              "       [1., 0., 0.]], dtype=float32)"
            ]
          },
          "metadata": {},
          "execution_count": 18
        }
      ]
    },
    {
      "cell_type": "code",
      "source": [
        "X_train[0]"
      ],
      "metadata": {
        "colab": {
          "base_uri": "https://localhost:8080/",
          "height": 140
        },
        "id": "lcQoMonpAuty",
        "outputId": "422c6d89-b41a-40d4-a5da-1755f66aaf39"
      },
      "execution_count": null,
      "outputs": [
        {
          "output_type": "execute_result",
          "data": {
            "text/plain": [
              "'I have worked with Little Dealer Little Prices for years They put new stove in my Living Quarters Horse trailer and did great job was in and out in timely manner sold that Living Quarters Horse Trailer and purchased different trailer had them work on my current trailer last year had to wait weeks to get an appointment had them work on my generator with other repairs got home turned on generator but won run my air conditioner Hummm you would think they would of tested that told them was leaving on trip the following week and need generator fixed They could not get me in for another week and definitely not before my trip So had somethings fixed but my generator was not one of them It hot here in September and no AC They got generator fixed after my trip it ran good all Fall This year go to start generator and it a not working So called and had to wait another wks to get an appointment use my horse trailer everyday to haul horses and ride told them this when made appointment Dropped trailer off on Monday am want to be sure they start working on my trailer today Yes was my answer didn hear anything Monday or Tuesday called at Wednesday and they told me they were going to start working on it TODAY Why didn they schedule appointment for Wed if they had it sitting there for days told them forget it called Platinum trailers and they referred me to OFF THE PORCH He had trailer fixed next day He came to my house and fixed it in hours for VERY REASONABLE PRICE '"
            ],
            "application/vnd.google.colaboratory.intrinsic+json": {
              "type": "string"
            }
          },
          "metadata": {},
          "execution_count": 19
        }
      ]
    },
    {
      "cell_type": "code",
      "source": [
        "tokenizer = Tokenizer(num_words=5000)\n",
        "tokenizer.fit_on_texts(X_train)\n",
        "\n",
        "X_train = tokenizer.texts_to_sequences(X_train)\n",
        "X_test = tokenizer.texts_to_sequences(X_test)"
      ],
      "metadata": {
        "id": "3UDkvHc-Aiok"
      },
      "execution_count": null,
      "outputs": []
    },
    {
      "cell_type": "code",
      "source": [
        "X_train[0]"
      ],
      "metadata": {
        "colab": {
          "base_uri": "https://localhost:8080/"
        },
        "id": "h8v8TWHOAirj",
        "outputId": "4f0fdd85-305e-4520-a2c4-885678b4a56e"
      },
      "execution_count": null,
      "outputs": [
        {
          "output_type": "execute_result",
          "data": {
            "text/plain": [
              "[100,\n",
              " 17,\n",
              " 216,\n",
              " 14,\n",
              " 205,\n",
              " 248,\n",
              " 205,\n",
              " 306,\n",
              " 9,\n",
              " 221,\n",
              " 8,\n",
              " 228,\n",
              " 63,\n",
              " 1673,\n",
              " 7,\n",
              " 11,\n",
              " 878,\n",
              " 3315,\n",
              " 1909,\n",
              " 58,\n",
              " 2,\n",
              " 61,\n",
              " 53,\n",
              " 162,\n",
              " 4,\n",
              " 7,\n",
              " 2,\n",
              " 36,\n",
              " 7,\n",
              " 972,\n",
              " 1092,\n",
              " 563,\n",
              " 12,\n",
              " 878,\n",
              " 3315,\n",
              " 1909,\n",
              " 58,\n",
              " 2,\n",
              " 226,\n",
              " 340,\n",
              " 58,\n",
              " 19,\n",
              " 37,\n",
              " 54,\n",
              " 13,\n",
              " 11,\n",
              " 1408,\n",
              " 58,\n",
              " 244,\n",
              " 247,\n",
              " 19,\n",
              " 3,\n",
              " 330,\n",
              " 193,\n",
              " 3,\n",
              " 43,\n",
              " 41,\n",
              " 344,\n",
              " 19,\n",
              " 37,\n",
              " 54,\n",
              " 13,\n",
              " 11,\n",
              " 411,\n",
              " 14,\n",
              " 96,\n",
              " 172,\n",
              " 75,\n",
              " 178,\n",
              " 608,\n",
              " 13,\n",
              " 411,\n",
              " 30,\n",
              " 393,\n",
              " 369,\n",
              " 11,\n",
              " 348,\n",
              " 1151,\n",
              " 16,\n",
              " 32,\n",
              " 294,\n",
              " 8,\n",
              " 32,\n",
              " 10,\n",
              " 2394,\n",
              " 12,\n",
              " 62,\n",
              " 37,\n",
              " 4,\n",
              " 578,\n",
              " 13,\n",
              " 197,\n",
              " 1,\n",
              " 803,\n",
              " 239,\n",
              " 2,\n",
              " 126,\n",
              " 411,\n",
              " 151,\n",
              " 8,\n",
              " 65,\n",
              " 20,\n",
              " 43,\n",
              " 22,\n",
              " 7,\n",
              " 9,\n",
              " 140,\n",
              " 239,\n",
              " 2,\n",
              " 237,\n",
              " 20,\n",
              " 125,\n",
              " 11,\n",
              " 197,\n",
              " 28,\n",
              " 19,\n",
              " 151,\n",
              " 30,\n",
              " 11,\n",
              " 411,\n",
              " 4,\n",
              " 20,\n",
              " 55,\n",
              " 10,\n",
              " 37,\n",
              " 6,\n",
              " 486,\n",
              " 70,\n",
              " 7,\n",
              " 1739,\n",
              " 2,\n",
              " 48,\n",
              " 468,\n",
              " 8,\n",
              " 75,\n",
              " 411,\n",
              " 151,\n",
              " 59,\n",
              " 11,\n",
              " 197,\n",
              " 6,\n",
              " 765,\n",
              " 88,\n",
              " 39,\n",
              " 1501,\n",
              " 18,\n",
              " 247,\n",
              " 68,\n",
              " 3,\n",
              " 425,\n",
              " 411,\n",
              " 2,\n",
              " 6,\n",
              " 378,\n",
              " 20,\n",
              " 209,\n",
              " 28,\n",
              " 82,\n",
              " 2,\n",
              " 19,\n",
              " 3,\n",
              " 330,\n",
              " 140,\n",
              " 3,\n",
              " 43,\n",
              " 41,\n",
              " 344,\n",
              " 219,\n",
              " 11,\n",
              " 1909,\n",
              " 58,\n",
              " 2716,\n",
              " 3,\n",
              " 2232,\n",
              " 2,\n",
              " 920,\n",
              " 62,\n",
              " 37,\n",
              " 18,\n",
              " 40,\n",
              " 133,\n",
              " 344,\n",
              " 483,\n",
              " 58,\n",
              " 77,\n",
              " 13,\n",
              " 557,\n",
              " 121,\n",
              " 168,\n",
              " 3,\n",
              " 29,\n",
              " 144,\n",
              " 8,\n",
              " 425,\n",
              " 209,\n",
              " 13,\n",
              " 11,\n",
              " 58,\n",
              " 303,\n",
              " 506,\n",
              " 4,\n",
              " 11,\n",
              " 461,\n",
              " 86,\n",
              " 734,\n",
              " 218,\n",
              " 557,\n",
              " 60,\n",
              " 1209,\n",
              " 82,\n",
              " 26,\n",
              " 1409,\n",
              " 2,\n",
              " 8,\n",
              " 62,\n",
              " 22,\n",
              " 8,\n",
              " 25,\n",
              " 118,\n",
              " 3,\n",
              " 425,\n",
              " 209,\n",
              " 13,\n",
              " 6,\n",
              " 303,\n",
              " 261,\n",
              " 86,\n",
              " 8,\n",
              " 746,\n",
              " 344,\n",
              " 9,\n",
              " 3737,\n",
              " 46,\n",
              " 8,\n",
              " 19,\n",
              " 6,\n",
              " 850,\n",
              " 38,\n",
              " 9,\n",
              " 142,\n",
              " 62,\n",
              " 37,\n",
              " 1740,\n",
              " 6,\n",
              " 82,\n",
              " 500,\n",
              " 2,\n",
              " 8,\n",
              " 1210,\n",
              " 22,\n",
              " 3,\n",
              " 77,\n",
              " 1,\n",
              " 2974,\n",
              " 24,\n",
              " 19,\n",
              " 58,\n",
              " 151,\n",
              " 175,\n",
              " 87,\n",
              " 24,\n",
              " 147,\n",
              " 3,\n",
              " 11,\n",
              " 691,\n",
              " 2,\n",
              " 151,\n",
              " 6,\n",
              " 7,\n",
              " 210,\n",
              " 9,\n",
              " 44,\n",
              " 412,\n",
              " 108]"
            ]
          },
          "metadata": {},
          "execution_count": 21
        }
      ]
    },
    {
      "cell_type": "code",
      "source": [
        "tokenizer.word_index"
      ],
      "metadata": {
        "colab": {
          "base_uri": "https://localhost:8080/"
        },
        "id": "Ij3qBWEiAiul",
        "outputId": "fc605937-8af7-4180-f5ad-f6705dc69451"
      },
      "execution_count": null,
      "outputs": [
        {
          "output_type": "execute_result",
          "data": {
            "text/plain": [
              "{'the': 1,\n",
              " 'and': 2,\n",
              " 'to': 3,\n",
              " 'was': 4,\n",
              " 'we': 5,\n",
              " 'it': 6,\n",
              " 'in': 7,\n",
              " 'they': 8,\n",
              " 'for': 9,\n",
              " 'of': 10,\n",
              " 'my': 11,\n",
              " 'that': 12,\n",
              " 'on': 13,\n",
              " 'with': 14,\n",
              " 'is': 15,\n",
              " 'you': 16,\n",
              " 'have': 17,\n",
              " 'this': 18,\n",
              " 'had': 19,\n",
              " 'not': 20,\n",
              " 'our': 21,\n",
              " 'me': 22,\n",
              " 'rv': 23,\n",
              " 'he': 24,\n",
              " 'were': 25,\n",
              " 'at': 26,\n",
              " 'service': 27,\n",
              " 'so': 28,\n",
              " 'be': 29,\n",
              " 'but': 30,\n",
              " 'from': 31,\n",
              " 'would': 32,\n",
              " 'up': 33,\n",
              " 'are': 34,\n",
              " 'us': 35,\n",
              " 'out': 36,\n",
              " 'them': 37,\n",
              " 'there': 38,\n",
              " 'all': 39,\n",
              " 'when': 40,\n",
              " 'an': 41,\n",
              " 'as': 42,\n",
              " 'get': 43,\n",
              " 'very': 44,\n",
              " 'back': 45,\n",
              " 'if': 46,\n",
              " 'time': 47,\n",
              " 'no': 48,\n",
              " 'will': 49,\n",
              " 'their': 50,\n",
              " 'about': 51,\n",
              " 'what': 52,\n",
              " 'great': 53,\n",
              " 'work': 54,\n",
              " 'one': 55,\n",
              " 'do': 56,\n",
              " 'just': 57,\n",
              " 'trailer': 58,\n",
              " 'after': 59,\n",
              " 'or': 60,\n",
              " 'did': 61,\n",
              " 'told': 62,\n",
              " 'new': 63,\n",
              " 'your': 64,\n",
              " 'could': 65,\n",
              " 'even': 66,\n",
              " 'place': 67,\n",
              " 'go': 68,\n",
              " 'been': 69,\n",
              " 'here': 70,\n",
              " 'took': 71,\n",
              " 'can': 72,\n",
              " 'like': 73,\n",
              " 'by': 74,\n",
              " 'got': 75,\n",
              " 'only': 76,\n",
              " 'off': 77,\n",
              " 'said': 78,\n",
              " 'car': 79,\n",
              " 'over': 80,\n",
              " 'because': 81,\n",
              " 'called': 82,\n",
              " 'customer': 83,\n",
              " 'went': 84,\n",
              " 'again': 85,\n",
              " 'didn': 86,\n",
              " 'day': 87,\n",
              " 'good': 88,\n",
              " 'experience': 89,\n",
              " 'never': 90,\n",
              " 'his': 91,\n",
              " 'done': 92,\n",
              " 'then': 93,\n",
              " 'more': 94,\n",
              " 'call': 95,\n",
              " 'other': 96,\n",
              " 'some': 97,\n",
              " 'take': 98,\n",
              " 'don': 99,\n",
              " 'i': 100,\n",
              " 'first': 101,\n",
              " 'know': 102,\n",
              " 'needed': 103,\n",
              " 'which': 104,\n",
              " 'has': 105,\n",
              " 'also': 106,\n",
              " 'any': 107,\n",
              " 'price': 108,\n",
              " 'now': 109,\n",
              " 'who': 110,\n",
              " 'repair': 111,\n",
              " 'way': 112,\n",
              " 'how': 113,\n",
              " 'make': 114,\n",
              " 'than': 115,\n",
              " 'she': 116,\n",
              " 'people': 117,\n",
              " 'going': 118,\n",
              " 'really': 119,\n",
              " 'business': 120,\n",
              " 'am': 121,\n",
              " 'recommend': 122,\n",
              " 'him': 123,\n",
              " 'well': 124,\n",
              " 'before': 125,\n",
              " 'need': 126,\n",
              " 'shop': 127,\n",
              " 'camping': 128,\n",
              " 'right': 129,\n",
              " 'down': 130,\n",
              " 'still': 131,\n",
              " 'nice': 132,\n",
              " 'made': 133,\n",
              " 'these': 134,\n",
              " 'found': 135,\n",
              " 'everything': 136,\n",
              " 'guys': 137,\n",
              " 'sales': 138,\n",
              " 'company': 139,\n",
              " 'another': 140,\n",
              " 'parts': 141,\n",
              " 'days': 142,\n",
              " 'looking': 143,\n",
              " 'sure': 144,\n",
              " 'through': 145,\n",
              " 'truck': 146,\n",
              " 'came': 147,\n",
              " 'two': 148,\n",
              " 'lot': 149,\n",
              " 'few': 150,\n",
              " 'fixed': 151,\n",
              " 'world': 152,\n",
              " 'problem': 153,\n",
              " 'wanted': 154,\n",
              " 'staff': 155,\n",
              " 'see': 156,\n",
              " 'best': 157,\n",
              " 'things': 158,\n",
              " 'friendly': 159,\n",
              " 'much': 160,\n",
              " 've': 161,\n",
              " 'job': 162,\n",
              " 'issues': 163,\n",
              " 'asked': 164,\n",
              " 'help': 165,\n",
              " 'around': 166,\n",
              " 'manager': 167,\n",
              " 'want': 168,\n",
              " 'come': 169,\n",
              " 'buy': 170,\n",
              " 'care': 171,\n",
              " 'repairs': 172,\n",
              " 'into': 173,\n",
              " 'find': 174,\n",
              " 'next': 175,\n",
              " 'm': 176,\n",
              " 'fix': 177,\n",
              " 'home': 178,\n",
              " 'say': 179,\n",
              " 'helpful': 180,\n",
              " 'bought': 181,\n",
              " 'give': 182,\n",
              " 'being': 183,\n",
              " 'check': 184,\n",
              " 'ever': 185,\n",
              " 'used': 186,\n",
              " 'warranty': 187,\n",
              " 'phone': 188,\n",
              " 'left': 189,\n",
              " 'where': 190,\n",
              " 'vehicle': 191,\n",
              " 'since': 192,\n",
              " 'weeks': 193,\n",
              " 'while': 194,\n",
              " 'vegas': 195,\n",
              " 'her': 196,\n",
              " 'trip': 197,\n",
              " 'purchase': 198,\n",
              " 'unit': 199,\n",
              " 'water': 200,\n",
              " 'thank': 201,\n",
              " 'guy': 202,\n",
              " 'later': 203,\n",
              " 'always': 204,\n",
              " 'little': 205,\n",
              " 'should': 206,\n",
              " 'part': 207,\n",
              " 'deal': 208,\n",
              " 'working': 209,\n",
              " 'hours': 210,\n",
              " 'look': 211,\n",
              " 're': 212,\n",
              " 'money': 213,\n",
              " 'camper': 214,\n",
              " 'issue': 215,\n",
              " 'worked': 216,\n",
              " 'away': 217,\n",
              " 'anything': 218,\n",
              " 'use': 219,\n",
              " 'room': 220,\n",
              " 'years': 221,\n",
              " 'highly': 222,\n",
              " 'pick': 223,\n",
              " 'stay': 224,\n",
              " 'coach': 225,\n",
              " 'purchased': 226,\n",
              " 'mesa': 227,\n",
              " 'put': 228,\n",
              " 'times': 229,\n",
              " 'too': 230,\n",
              " 'clean': 231,\n",
              " 'many': 232,\n",
              " 'else': 233,\n",
              " 'getting': 234,\n",
              " 'every': 235,\n",
              " 'gave': 236,\n",
              " 'definitely': 237,\n",
              " 'front': 238,\n",
              " 'week': 239,\n",
              " 'bad': 240,\n",
              " 'family': 241,\n",
              " 'most': 242,\n",
              " 'something': 243,\n",
              " 'last': 244,\n",
              " 'months': 245,\n",
              " 'able': 246,\n",
              " 'year': 247,\n",
              " 'dealer': 248,\n",
              " 'thanks': 249,\n",
              " 'owner': 250,\n",
              " 'let': 251,\n",
              " 'wasn': 252,\n",
              " 'questions': 253,\n",
              " 'couple': 254,\n",
              " 'long': 255,\n",
              " 'several': 256,\n",
              " 'review': 257,\n",
              " 'nothing': 258,\n",
              " 'happy': 259,\n",
              " 'honest': 260,\n",
              " 'why': 261,\n",
              " 'ready': 262,\n",
              " 'park': 263,\n",
              " 'area': 264,\n",
              " 'minutes': 265,\n",
              " 'drive': 266,\n",
              " 'tell': 267,\n",
              " 'having': 268,\n",
              " 'better': 269,\n",
              " 'road': 270,\n",
              " 'person': 271,\n",
              " 'same': 272,\n",
              " 'someone': 273,\n",
              " 'old': 274,\n",
              " 'finally': 275,\n",
              " 'return': 276,\n",
              " 'department': 277,\n",
              " 'location': 278,\n",
              " 'cost': 279,\n",
              " 'll': 280,\n",
              " 'customers': 281,\n",
              " 'pay': 282,\n",
              " 'husband': 283,\n",
              " 'hour': 284,\n",
              " 'reviews': 285,\n",
              " 'th': 286,\n",
              " 'once': 287,\n",
              " 'everyone': 288,\n",
              " 'replaced': 289,\n",
              " 'anyone': 290,\n",
              " 'feel': 291,\n",
              " 'night': 292,\n",
              " 'wrong': 293,\n",
              " 'think': 294,\n",
              " 'couldn': 295,\n",
              " 'awesome': 296,\n",
              " 'problems': 297,\n",
              " 'full': 298,\n",
              " 'without': 299,\n",
              " 'wheel': 300,\n",
              " 'until': 301,\n",
              " 'professional': 302,\n",
              " 'today': 303,\n",
              " 'rental': 304,\n",
              " 'looked': 305,\n",
              " 'prices': 306,\n",
              " 'needs': 307,\n",
              " 'oil': 308,\n",
              " 'decided': 309,\n",
              " 'both': 310,\n",
              " 'less': 311,\n",
              " 'charge': 312,\n",
              " 'started': 313,\n",
              " 'las': 314,\n",
              " 'mechanic': 315,\n",
              " 'received': 316,\n",
              " 'end': 317,\n",
              " 'top': 318,\n",
              " 'walk': 319,\n",
              " 'thing': 320,\n",
              " 'process': 321,\n",
              " 'small': 322,\n",
              " 'ask': 323,\n",
              " 'store': 324,\n",
              " 'dealership': 325,\n",
              " 'doing': 326,\n",
              " 'office': 327,\n",
              " 'boat': 328,\n",
              " 'paid': 329,\n",
              " 'wait': 330,\n",
              " 'salesman': 331,\n",
              " 'actually': 332,\n",
              " 'travel': 333,\n",
              " 'showed': 334,\n",
              " 'tried': 335,\n",
              " 'under': 336,\n",
              " 'keep': 337,\n",
              " 'easy': 338,\n",
              " 'big': 339,\n",
              " 'different': 340,\n",
              " 'john': 341,\n",
              " 'la': 342,\n",
              " 'wife': 343,\n",
              " 'appointment': 344,\n",
              " 'leave': 345,\n",
              " 'try': 346,\n",
              " 'door': 347,\n",
              " 'air': 348,\n",
              " 'though': 349,\n",
              " 'enough': 350,\n",
              " 'side': 351,\n",
              " 'brought': 352,\n",
              " 'stars': 353,\n",
              " 'super': 354,\n",
              " 'drove': 355,\n",
              " 'calls': 356,\n",
              " 'amazing': 357,\n",
              " 'waiting': 358,\n",
              " 'making': 359,\n",
              " 'rent': 360,\n",
              " 'buying': 361,\n",
              " 'month': 362,\n",
              " 'picked': 363,\n",
              " 'quality': 364,\n",
              " 'auto': 365,\n",
              " 'brand': 366,\n",
              " 'own': 367,\n",
              " 'entire': 368,\n",
              " 'run': 369,\n",
              " 'trying': 370,\n",
              " 'bring': 371,\n",
              " 'morning': 372,\n",
              " 'extremely': 373,\n",
              " 'rented': 374,\n",
              " 'thought': 375,\n",
              " 'however': 376,\n",
              " 'fair': 377,\n",
              " 'a': 378,\n",
              " 'ago': 379,\n",
              " 'within': 380,\n",
              " 'town': 381,\n",
              " 'items': 382,\n",
              " 'love': 383,\n",
              " 'far': 384,\n",
              " 'installed': 385,\n",
              " 'kept': 386,\n",
              " 'during': 387,\n",
              " 'its': 388,\n",
              " 'does': 389,\n",
              " 'order': 390,\n",
              " 'walked': 391,\n",
              " 'taken': 392,\n",
              " 'won': 393,\n",
              " 'arrived': 394,\n",
              " 'phoenix': 395,\n",
              " 'such': 396,\n",
              " 'team': 397,\n",
              " 'horrible': 398,\n",
              " 'excellent': 399,\n",
              " 'second': 400,\n",
              " 'checked': 401,\n",
              " 'free': 402,\n",
              " 'taking': 403,\n",
              " 'already': 404,\n",
              " 'helped': 405,\n",
              " 'change': 406,\n",
              " 'coming': 407,\n",
              " 'whole': 408,\n",
              " 'felt': 409,\n",
              " 'show': 410,\n",
              " 'generator': 411,\n",
              " 'reasonable': 412,\n",
              " 'completely': 413,\n",
              " 'miles': 414,\n",
              " 'places': 415,\n",
              " 'tires': 416,\n",
              " 'knew': 417,\n",
              " 'point': 418,\n",
              " 'knowledgeable': 419,\n",
              " 'almost': 420,\n",
              " 'close': 421,\n",
              " 'valley': 422,\n",
              " 'hard': 423,\n",
              " 'motorhome': 424,\n",
              " 'start': 425,\n",
              " 'tom': 426,\n",
              " 'each': 427,\n",
              " 'hotel': 428,\n",
              " 'worst': 429,\n",
              " 'spent': 430,\n",
              " 'az': 431,\n",
              " 'doesn': 432,\n",
              " 'quickly': 433,\n",
              " 'hitch': 434,\n",
              " 'arizona': 435,\n",
              " 'star': 436,\n",
              " 'ended': 437,\n",
              " 'tire': 438,\n",
              " 'ok': 439,\n",
              " 'future': 440,\n",
              " 'extra': 441,\n",
              " 'credit': 442,\n",
              " 'explained': 443,\n",
              " 'due': 444,\n",
              " 'returned': 445,\n",
              " 'three': 446,\n",
              " 'rude': 447,\n",
              " 'rig': 448,\n",
              " 'set': 449,\n",
              " 'driving': 450,\n",
              " 'absolutely': 451,\n",
              " 'beyond': 452,\n",
              " 'charged': 453,\n",
              " 'repaired': 454,\n",
              " 'wouldn': 455,\n",
              " 'offered': 456,\n",
              " 'sell': 457,\n",
              " 'friends': 458,\n",
              " 'kind': 459,\n",
              " 'd': 460,\n",
              " 'answer': 461,\n",
              " 'class': 462,\n",
              " 'number': 463,\n",
              " 'man': 464,\n",
              " 'those': 465,\n",
              " 'above': 466,\n",
              " 'walker': 467,\n",
              " 'ac': 468,\n",
              " 'weekend': 469,\n",
              " 'pressure': 470,\n",
              " 'answered': 471,\n",
              " 'quick': 472,\n",
              " 'desk': 473,\n",
              " 'paperwork': 474,\n",
              " 'toy': 475,\n",
              " 'dog': 476,\n",
              " 'high': 477,\n",
              " 'sale': 478,\n",
              " 'least': 479,\n",
              " 'immediately': 480,\n",
              " 'system': 481,\n",
              " 'busy': 482,\n",
              " 'dropped': 483,\n",
              " 'card': 484,\n",
              " 'believe': 485,\n",
              " 'hot': 486,\n",
              " 'complete': 487,\n",
              " 'mike': 488,\n",
              " 'promised': 489,\n",
              " 'please': 490,\n",
              " 'may': 491,\n",
              " 'etc': 492,\n",
              " 'yet': 493,\n",
              " 'engine': 494,\n",
              " 'yelp': 495,\n",
              " 'tank': 496,\n",
              " 'motor': 497,\n",
              " 'replace': 498,\n",
              " 'bit': 499,\n",
              " 'trailers': 500,\n",
              " 'bill': 501,\n",
              " 'perfect': 502,\n",
              " 'says': 503,\n",
              " 'spoke': 504,\n",
              " 'gas': 505,\n",
              " 'yes': 506,\n",
              " 'inspection': 507,\n",
              " 'given': 508,\n",
              " 'ordered': 509,\n",
              " 'sent': 510,\n",
              " 'light': 511,\n",
              " 'finance': 512,\n",
              " 'tech': 513,\n",
              " 'recommended': 514,\n",
              " 'delivery': 515,\n",
              " 'pretty': 516,\n",
              " 'visit': 517,\n",
              " 'outside': 518,\n",
              " 'trust': 519,\n",
              " 'treated': 520,\n",
              " 'estimate': 521,\n",
              " 'fast': 522,\n",
              " 'leak': 523,\n",
              " 'stopped': 524,\n",
              " 'inside': 525,\n",
              " 'saw': 526,\n",
              " 'worth': 527,\n",
              " 'list': 528,\n",
              " 'live': 529,\n",
              " 'available': 530,\n",
              " 'broken': 531,\n",
              " 'open': 532,\n",
              " 'hauler': 533,\n",
              " 'pm': 534,\n",
              " 'name': 535,\n",
              " 'employees': 536,\n",
              " 'information': 537,\n",
              " 'met': 538,\n",
              " 'anywhere': 539,\n",
              " 'soon': 540,\n",
              " 'pool': 541,\n",
              " 'line': 542,\n",
              " 'talking': 543,\n",
              " 'fine': 544,\n",
              " 'online': 545,\n",
              " 'insurance': 546,\n",
              " 'wish': 547,\n",
              " 'myself': 548,\n",
              " 'short': 549,\n",
              " 'running': 550,\n",
              " 'fact': 551,\n",
              " 'brakes': 552,\n",
              " 'maintenance': 553,\n",
              " 'contacted': 554,\n",
              " 'roof': 555,\n",
              " 'stuff': 556,\n",
              " 'monday': 557,\n",
              " 'heater': 558,\n",
              " 'across': 559,\n",
              " 'probably': 560,\n",
              " 'local': 561,\n",
              " 'read': 562,\n",
              " 'sold': 563,\n",
              " 'spot': 564,\n",
              " 'minor': 565,\n",
              " 'upon': 566,\n",
              " 'mechanics': 567,\n",
              " 'informed': 568,\n",
              " 'either': 569,\n",
              " 'tow': 570,\n",
              " 'talk': 571,\n",
              " 'offer': 572,\n",
              " 'using': 573,\n",
              " 'center': 574,\n",
              " 'situation': 575,\n",
              " 'bed': 576,\n",
              " 'life': 577,\n",
              " 'leaving': 578,\n",
              " 'poor': 579,\n",
              " 'maybe': 580,\n",
              " 'half': 581,\n",
              " 'labor': 582,\n",
              " 'reason': 583,\n",
              " 'brake': 584,\n",
              " 'terrible': 585,\n",
              " 'update': 586,\n",
              " 'completed': 587,\n",
              " 'major': 588,\n",
              " 'talked': 589,\n",
              " 'happened': 590,\n",
              " 'quote': 591,\n",
              " 'plus': 592,\n",
              " 'email': 593,\n",
              " 'america': 594,\n",
              " 'kids': 595,\n",
              " 'spend': 596,\n",
              " 'fun': 597,\n",
              " 'recently': 598,\n",
              " 'impressed': 599,\n",
              " 'understand': 600,\n",
              " 'provided': 601,\n",
              " 'friend': 602,\n",
              " 'site': 603,\n",
              " 'cruise': 604,\n",
              " 'might': 605,\n",
              " 'huge': 606,\n",
              " 'past': 607,\n",
              " 'turned': 608,\n",
              " 'behind': 609,\n",
              " 'replacement': 610,\n",
              " 'guess': 611,\n",
              " 'follow': 612,\n",
              " 'tv': 613,\n",
              " 'window': 614,\n",
              " 'rooms': 615,\n",
              " 'amount': 616,\n",
              " 'forward': 617,\n",
              " 'vehicles': 618,\n",
              " 'calling': 619,\n",
              " 'son': 620,\n",
              " 'food': 621,\n",
              " 'pump': 622,\n",
              " 'automotive': 623,\n",
              " 'pleased': 624,\n",
              " 'mind': 625,\n",
              " 'agreed': 626,\n",
              " 'lance': 627,\n",
              " 'state': 628,\n",
              " 'mobile': 629,\n",
              " 'rvs': 630,\n",
              " 'deposit': 631,\n",
              " 'simple': 632,\n",
              " 'lake': 633,\n",
              " 'stop': 634,\n",
              " 'rest': 635,\n",
              " 'management': 636,\n",
              " 'others': 637,\n",
              " 'vacation': 638,\n",
              " 'response': 639,\n",
              " 'boulder': 640,\n",
              " 'toilet': 641,\n",
              " 'seemed': 642,\n",
              " 'especially': 643,\n",
              " 'looks': 644,\n",
              " 'noticed': 645,\n",
              " 'johnnie': 646,\n",
              " 'drop': 647,\n",
              " 'sign': 648,\n",
              " 'low': 649,\n",
              " 'exactly': 650,\n",
              " 'overall': 651,\n",
              " 'longer': 652,\n",
              " 'cars': 653,\n",
              " 'saying': 654,\n",
              " 'communication': 655,\n",
              " 'casino': 656,\n",
              " 'parking': 657,\n",
              " 'bathroom': 658,\n",
              " 'date': 659,\n",
              " 'along': 660,\n",
              " 'friday': 661,\n",
              " 'heard': 662,\n",
              " 'hope': 663,\n",
              " 'install': 664,\n",
              " 'pull': 665,\n",
              " 'large': 666,\n",
              " 'services': 667,\n",
              " 'somewhere': 668,\n",
              " 'properly': 669,\n",
              " 'floor': 670,\n",
              " 'security': 671,\n",
              " 'cover': 672,\n",
              " 'level': 673,\n",
              " 'based': 674,\n",
              " 'seen': 675,\n",
              " 'desert': 676,\n",
              " 'rate': 677,\n",
              " 'quoted': 678,\n",
              " 'damage': 679,\n",
              " 'waited': 680,\n",
              " 'knows': 681,\n",
              " 'idea': 682,\n",
              " 'street': 683,\n",
              " 'blue': 684,\n",
              " 'expected': 685,\n",
              " 'elsewhere': 686,\n",
              " 'dealers': 687,\n",
              " 'power': 688,\n",
              " 'fuel': 689,\n",
              " 'test': 690,\n",
              " 'house': 691,\n",
              " 'model': 692,\n",
              " 'battery': 693,\n",
              " 'contact': 694,\n",
              " 'twice': 695,\n",
              " 'pricing': 696,\n",
              " 'stayed': 697,\n",
              " 'instead': 698,\n",
              " 'ryan': 699,\n",
              " 'comfortable': 700,\n",
              " 'pulled': 701,\n",
              " 'late': 702,\n",
              " 'folks': 703,\n",
              " 'seem': 704,\n",
              " 'asking': 705,\n",
              " 'takes': 706,\n",
              " 'interested': 707,\n",
              " 'hold': 708,\n",
              " 'truly': 709,\n",
              " 'multiple': 710,\n",
              " 'fit': 711,\n",
              " 'reservation': 712,\n",
              " 'original': 713,\n",
              " 'expect': 714,\n",
              " 'unfortunately': 715,\n",
              " 'wonderful': 716,\n",
              " 'renting': 717,\n",
              " 'prior': 718,\n",
              " 'isn': 719,\n",
              " 'california': 720,\n",
              " 'group': 721,\n",
              " 'condition': 722,\n",
              " 'possible': 723,\n",
              " 'turn': 724,\n",
              " 'lost': 725,\n",
              " 'changed': 726,\n",
              " 'summer': 727,\n",
              " 'dave': 728,\n",
              " 'trade': 729,\n",
              " 'glad': 730,\n",
              " 'stated': 731,\n",
              " 'waste': 732,\n",
              " 'options': 733,\n",
              " 'hear': 734,\n",
              " 'lots': 735,\n",
              " 'seems': 736,\n",
              " 'fantastic': 737,\n",
              " 'true': 738,\n",
              " 'total': 739,\n",
              " 'plan': 740,\n",
              " 'additional': 741,\n",
              " 'negative': 742,\n",
              " 'liked': 743,\n",
              " 'outlet': 744,\n",
              " 'facility': 745,\n",
              " 'schedule': 746,\n",
              " 'attention': 747,\n",
              " 'lady': 748,\n",
              " 'broke': 749,\n",
              " 'totally': 750,\n",
              " 'greeted': 751,\n",
              " 'gets': 752,\n",
              " 'giving': 753,\n",
              " 'dealing': 754,\n",
              " 'purchasing': 755,\n",
              " 'shops': 756,\n",
              " 'comes': 757,\n",
              " 'story': 758,\n",
              " 'quite': 759,\n",
              " 'selection': 760,\n",
              " 'dollars': 761,\n",
              " 'missing': 762,\n",
              " 'disappointed': 763,\n",
              " 'word': 764,\n",
              " 'ran': 765,\n",
              " 'saturday': 766,\n",
              " 'slide': 767,\n",
              " 'appreciate': 768,\n",
              " 'wow': 769,\n",
              " 'telling': 770,\n",
              " 'works': 771,\n",
              " 'mistake': 772,\n",
              " 'paying': 773,\n",
              " 'general': 774,\n",
              " 'unless': 775,\n",
              " 'detail': 776,\n",
              " 'c': 777,\n",
              " 'thorough': 778,\n",
              " 'continue': 779,\n",
              " 'rep': 780,\n",
              " 'knowledge': 781,\n",
              " 'four': 782,\n",
              " 'outstanding': 783,\n",
              " 'fee': 784,\n",
              " 'city': 785,\n",
              " 'sorry': 786,\n",
              " 'delivered': 787,\n",
              " 'closed': 788,\n",
              " 'course': 789,\n",
              " 'supposed': 790,\n",
              " 'makes': 791,\n",
              " 'pop': 792,\n",
              " 'near': 793,\n",
              " 'safe': 794,\n",
              " 'shopping': 795,\n",
              " 'orangewood': 796,\n",
              " 'storage': 797,\n",
              " 'shower': 798,\n",
              " 'pleasant': 799,\n",
              " 'station': 800,\n",
              " 'cannot': 801,\n",
              " 'expensive': 802,\n",
              " 'following': 803,\n",
              " 'cleaned': 804,\n",
              " 'covered': 805,\n",
              " 'dept': 806,\n",
              " 'lack': 807,\n",
              " 'product': 808,\n",
              " 'avoid': 809,\n",
              " 'equipment': 810,\n",
              " 'send': 811,\n",
              " 'afternoon': 812,\n",
              " 'beware': 813,\n",
              " 'gone': 814,\n",
              " 'employee': 815,\n",
              " 'scott': 816,\n",
              " 'black': 817,\n",
              " 'propane': 818,\n",
              " 'hose': 819,\n",
              " 'finish': 820,\n",
              " 'paint': 821,\n",
              " 'size': 822,\n",
              " 'satisfied': 823,\n",
              " 'units': 824,\n",
              " 'scheduled': 825,\n",
              " 'provide': 826,\n",
              " 'five': 827,\n",
              " 'patient': 828,\n",
              " 'head': 829,\n",
              " 'matter': 830,\n",
              " 'counter': 831,\n",
              " 'speak': 832,\n",
              " 'busted': 833,\n",
              " 'post': 834,\n",
              " 'experienced': 835,\n",
              " 'special': 836,\n",
              " 'fridge': 837,\n",
              " 'matt': 838,\n",
              " 'worse': 839,\n",
              " 'positive': 840,\n",
              " 'paul': 841,\n",
              " 'payment': 842,\n",
              " 'non': 843,\n",
              " 'courteous': 844,\n",
              " 'extended': 845,\n",
              " 'add': 846,\n",
              " 'between': 847,\n",
              " 'trails': 848,\n",
              " 'including': 849,\n",
              " 'sitting': 850,\n",
              " 'move': 851,\n",
              " 'correctly': 852,\n",
              " 'transmission': 853,\n",
              " 'question': 854,\n",
              " 'straight': 855,\n",
              " 'message': 856,\n",
              " 'stock': 857,\n",
              " 'willing': 858,\n",
              " 'research': 859,\n",
              " 'brad': 860,\n",
              " 'basically': 861,\n",
              " 'dirty': 862,\n",
              " 'figure': 863,\n",
              " 'oh': 864,\n",
              " 'strip': 865,\n",
              " 'fixing': 866,\n",
              " 'must': 867,\n",
              " 'campground': 868,\n",
              " 'important': 869,\n",
              " 'weren': 870,\n",
              " 'explain': 871,\n",
              " 'main': 872,\n",
              " 'website': 873,\n",
              " 'mention': 874,\n",
              " 'joe': 875,\n",
              " 'clearly': 876,\n",
              " 'meet': 877,\n",
              " 'living': 878,\n",
              " 'real': 879,\n",
              " 'correct': 880,\n",
              " 'rear': 881,\n",
              " 'dealt': 882,\n",
              " 'thousand': 883,\n",
              " 'although': 884,\n",
              " 'assistance': 885,\n",
              " 'minute': 886,\n",
              " 'serviced': 887,\n",
              " 'chose': 888,\n",
              " 'hand': 889,\n",
              " 'refrigerator': 890,\n",
              " 'body': 891,\n",
              " 'yourself': 892,\n",
              " 'technician': 893,\n",
              " 'goes': 894,\n",
              " 'type': 895,\n",
              " 'children': 896,\n",
              " 'seriously': 897,\n",
              " 'dont': 898,\n",
              " 'attitude': 899,\n",
              " 'campers': 900,\n",
              " 'concerns': 901,\n",
              " 'saved': 902,\n",
              " 'cold': 903,\n",
              " 'owned': 904,\n",
              " 'country': 905,\n",
              " 'early': 906,\n",
              " 'literally': 907,\n",
              " 'moved': 908,\n",
              " 'rather': 909,\n",
              " 'hadn': 910,\n",
              " 'per': 911,\n",
              " 'discovered': 912,\n",
              " 'companies': 913,\n",
              " 'cash': 914,\n",
              " 'zero': 915,\n",
              " 'accommodating': 916,\n",
              " 'selling': 917,\n",
              " 'van': 918,\n",
              " 'writing': 919,\n",
              " 'ride': 920,\n",
              " 'table': 921,\n",
              " 'owners': 922,\n",
              " 'luck': 923,\n",
              " 'space': 924,\n",
              " 'play': 925,\n",
              " 'decent': 926,\n",
              " 'valve': 927,\n",
              " 'wifi': 928,\n",
              " 'refund': 929,\n",
              " 'clear': 930,\n",
              " 'knuckle': 931,\n",
              " 'leaking': 932,\n",
              " 'filled': 933,\n",
              " 'value': 934,\n",
              " 'happier': 935,\n",
              " 'thinking': 936,\n",
              " 'young': 937,\n",
              " 'financing': 938,\n",
              " 'resort': 939,\n",
              " 'thru': 940,\n",
              " 'chris': 941,\n",
              " 'st': 942,\n",
              " 'together': 943,\n",
              " 'pictures': 944,\n",
              " 'driver': 945,\n",
              " 'required': 946,\n",
              " 'simply': 947,\n",
              " 'assured': 948,\n",
              " 'apparently': 949,\n",
              " 'realized': 950,\n",
              " 'min': 951,\n",
              " 'control': 952,\n",
              " 'mile': 953,\n",
              " 'de': 954,\n",
              " 'stuck': 955,\n",
              " 'finished': 956,\n",
              " 'mark': 957,\n",
              " 'parked': 958,\n",
              " 'write': 959,\n",
              " 'previous': 960,\n",
              " 'break': 961,\n",
              " 'final': 962,\n",
              " 'fault': 963,\n",
              " 'except': 964,\n",
              " 'awning': 965,\n",
              " 'manufacturer': 966,\n",
              " 'via': 967,\n",
              " 'fifth': 968,\n",
              " 'cheap': 969,\n",
              " 'save': 970,\n",
              " 'ernie': 971,\n",
              " 'timely': 972,\n",
              " 'lights': 973,\n",
              " 'box': 974,\n",
              " 'paper': 975,\n",
              " 'hooked': 976,\n",
              " 'windshield': 977,\n",
              " 'none': 978,\n",
              " 'sat': 979,\n",
              " 'returning': 980,\n",
              " 'handle': 981,\n",
              " 'notch': 982,\n",
              " 'market': 983,\n",
              " 'woman': 984,\n",
              " 'seat': 985,\n",
              " 'feeling': 986,\n",
              " 'tanks': 987,\n",
              " 'walking': 988,\n",
              " 'july': 989,\n",
              " 'appreciated': 990,\n",
              " 'remember': 991,\n",
              " 'fees': 992,\n",
              " 'initial': 993,\n",
              " 'batteries': 994,\n",
              " 'treat': 995,\n",
              " 'regarding': 996,\n",
              " 'bank': 997,\n",
              " 'bottom': 998,\n",
              " 'included': 999,\n",
              " 'camperland': 1000,\n",
              " ...}"
            ]
          },
          "metadata": {},
          "execution_count": 22
        }
      ]
    },
    {
      "cell_type": "code",
      "source": [
        "vocab_size = len(tokenizer.word_index) + 1"
      ],
      "metadata": {
        "id": "QaPy1JtgRMIx"
      },
      "execution_count": null,
      "outputs": []
    },
    {
      "cell_type": "code",
      "source": [
        "maxlen = 200\n",
        "\n",
        "X_train = pad_sequences(X_train, padding='post', maxlen=maxlen)\n",
        "X_test = pad_sequences(X_test, padding='post', maxlen=maxlen)"
      ],
      "metadata": {
        "id": "eOwEBzZLAixy"
      },
      "execution_count": null,
      "outputs": []
    },
    {
      "cell_type": "code",
      "source": [
        "X_train"
      ],
      "metadata": {
        "colab": {
          "base_uri": "https://localhost:8080/"
        },
        "id": "dqQpS8C4ACJd",
        "outputId": "423f0980-5a07-4236-b95c-a887b1bd29b7"
      },
      "execution_count": null,
      "outputs": [
        {
          "output_type": "execute_result",
          "data": {
            "text/plain": [
              "array([[ 369,   11,  348, ...,   44,  412,  108],\n",
              "       [2717,  887,   11, ...,    0,    0,    0],\n",
              "       [  31, 1053,   51, ...,   13,    1,  564],\n",
              "       ...,\n",
              "       [ 134,  703,   34, ...,    0,    0,    0],\n",
              "       [   1, 2287,    2, ...,    0,    0,    0],\n",
              "       [ 100,    1,   23, ...,    0,    0,    0]], dtype=int32)"
            ]
          },
          "metadata": {},
          "execution_count": 25
        }
      ]
    },
    {
      "cell_type": "code",
      "source": [],
      "metadata": {
        "id": "3cv0BzhxACOJ"
      },
      "execution_count": null,
      "outputs": []
    },
    {
      "cell_type": "markdown",
      "source": [
        "built-in GloVe word embeddings."
      ],
      "metadata": {
        "id": "P5X1MuggJ2Bn"
      }
    },
    {
      "cell_type": "code",
      "source": [
        "'''from numpy import array\n",
        "from numpy import asarray\n",
        "from numpy import zeros\n",
        "\n",
        "embeddings_dictionary = dict()\n",
        "\n",
        "for line in glove_file:\n",
        "    records = line.split()\n",
        "    word = records[0]\n",
        "    vector_dimensions = asarray(records[1:], dtype='float32')\n",
        "    embeddings_dictionary [word] = vector_dimensions\n",
        "\n",
        "glove_file.close()'''"
      ],
      "metadata": {
        "colab": {
          "base_uri": "https://localhost:8080/",
          "height": 70
        },
        "id": "Gx6svXm4ACQ0",
        "outputId": "28abaef4-7848-4fbf-98d4-ddaec9b2831c"
      },
      "execution_count": null,
      "outputs": [
        {
          "output_type": "execute_result",
          "data": {
            "text/plain": [
              "\"from numpy import array\\nfrom numpy import asarray\\nfrom numpy import zeros\\n\\nembeddings_dictionary = dict()\\n\\nfor line in glove_file:\\n    records = line.split()\\n    word = records[0]\\n    vector_dimensions = asarray(records[1:], dtype='float32')\\n    embeddings_dictionary [word] = vector_dimensions\\n\\nglove_file.close()\""
            ],
            "application/vnd.google.colaboratory.intrinsic+json": {
              "type": "string"
            }
          },
          "metadata": {},
          "execution_count": 26
        }
      ]
    },
    {
      "cell_type": "code",
      "source": [
        "X_train.shape"
      ],
      "metadata": {
        "colab": {
          "base_uri": "https://localhost:8080/"
        },
        "id": "n6jO9J1bJZRf",
        "outputId": "f017a3db-c93e-4cae-8557-5313a2967b11"
      },
      "execution_count": null,
      "outputs": [
        {
          "output_type": "execute_result",
          "data": {
            "text/plain": [
              "(3,)"
            ]
          },
          "metadata": {},
          "execution_count": 44
        }
      ]
    },
    {
      "cell_type": "code",
      "source": [
        "deep_inputs = Input(shape=(maxlen,))\n",
        "embedding_layer = Embedding(vocab_size, 100, trainable=False)(deep_inputs)\n",
        "LSTM_Layer_1 = LSTM(128)(embedding_layer)\n",
        "dense_layer_1 = Dense(3, activation='softmax')(LSTM_Layer_1)\n",
        "model = Model(inputs=deep_inputs, outputs=dense_layer_1)\n",
        "\n",
        "model.compile(loss='categorical_crossentropy', optimizer='adam', metrics=['acc'])"
      ],
      "metadata": {
        "id": "yeT7H5WQACTf"
      },
      "execution_count": null,
      "outputs": []
    },
    {
      "cell_type": "code",
      "source": [
        "print(model.summary())"
      ],
      "metadata": {
        "colab": {
          "base_uri": "https://localhost:8080/"
        },
        "id": "yboesb7YACWZ",
        "outputId": "4cfefa61-6f63-4f0a-8a22-0b8ae4690182"
      },
      "execution_count": null,
      "outputs": [
        {
          "output_type": "stream",
          "name": "stdout",
          "text": [
            "Model: \"model\"\n",
            "_________________________________________________________________\n",
            " Layer (type)                Output Shape              Param #   \n",
            "=================================================================\n",
            " input_1 (InputLayer)        [(None, 200)]             0         \n",
            "                                                                 \n",
            " embedding (Embedding)       (None, 200, 100)          1168200   \n",
            "                                                                 \n",
            " lstm (LSTM)                 (None, 128)               117248    \n",
            "                                                                 \n",
            " dense (Dense)               (None, 3)                 387       \n",
            "                                                                 \n",
            "=================================================================\n",
            "Total params: 1,285,835\n",
            "Trainable params: 117,635\n",
            "Non-trainable params: 1,168,200\n",
            "_________________________________________________________________\n",
            "None\n"
          ]
        }
      ]
    },
    {
      "cell_type": "code",
      "source": [
        "from keras.utils import plot_model\n",
        "plot_model(model, to_file='model_plot1.png', show_shapes=True, show_layer_names=True)"
      ],
      "metadata": {
        "colab": {
          "base_uri": "https://localhost:8080/",
          "height": 422
        },
        "id": "IgPcW5sFACZJ",
        "outputId": "f4178287-609a-4f6b-d1a1-562b46a97b32"
      },
      "execution_count": null,
      "outputs": [
        {
          "output_type": "execute_result",
          "data": {
            "image/png": "[encoded data removed]",
            "text/plain": [
              "<IPython.core.display.Image object>"
            ]
          },
          "metadata": {},
          "execution_count": 29
        }
      ]
    },
    {
      "cell_type": "code",
      "source": [
        "history = model.fit(X_train, y_train, batch_size=128, epochs=4, verbose=1, validation_split=0.2)"
      ],
      "metadata": {
        "colab": {
          "base_uri": "https://localhost:8080/"
        },
        "id": "gLAsI-RHACcL",
        "outputId": "512897b2-1935-4af9-9014-fb563d4866d6"
      },
      "execution_count": null,
      "outputs": [
        {
          "output_type": "stream",
          "name": "stdout",
          "text": [
            "Epoch 1/4\n",
            "15/15 [==============================] - 15s 729ms/step - loss: 0.8776 - acc: 0.5176 - val_loss: 0.7157 - val_acc: 0.6197\n",
            "Epoch 2/4\n",
            "15/15 [==============================] - 12s 831ms/step - loss: 0.7375 - acc: 0.5854 - val_loss: 0.7010 - val_acc: 0.6050\n",
            "Epoch 3/4\n",
            "15/15 [==============================] - 13s 906ms/step - loss: 0.7255 - acc: 0.5891 - val_loss: 0.6956 - val_acc: 0.6071\n",
            "Epoch 4/4\n",
            "15/15 [==============================] - 13s 832ms/step - loss: 0.7245 - acc: 0.5991 - val_loss: 0.6982 - val_acc: 0.6197\n"
          ]
        }
      ]
    },
    {
      "cell_type": "code",
      "source": [
        "score = model.evaluate(X_test, y_test, verbose=1)\n",
        "\n",
        "print(\"Test Score:\", score[0])\n",
        "print(\"Test Accuracy:\", score[1])"
      ],
      "metadata": {
        "colab": {
          "base_uri": "https://localhost:8080/"
        },
        "id": "YBAlVLcvV1iL",
        "outputId": "59d94a1b-3ecc-497e-c9aa-0085db4ddb90"
      },
      "execution_count": null,
      "outputs": [
        {
          "output_type": "stream",
          "name": "stdout",
          "text": [
            "19/19 [==============================] - 2s 99ms/step - loss: 0.6951 - acc: 0.6336\n",
            "Test Score: 0.6950615644454956\n",
            "Test Accuracy: 0.6336134672164917\n"
          ]
        }
      ]
    },
    {
      "cell_type": "code",
      "source": [
        "import matplotlib.pyplot as plt\n",
        "\n",
        "plt.plot(history.history['acc'])\n",
        "plt.plot(history.history['val_acc'])\n",
        "\n",
        "plt.title('model accuracy')\n",
        "plt.ylabel('accuracy')\n",
        "plt.xlabel('epoch')\n",
        "plt.legend(['train','test'], loc='upper left')\n",
        "plt.show()\n",
        "\n",
        "plt.plot(history.history['loss'])\n",
        "plt.plot(history.history['val_loss'])\n",
        "\n",
        "plt.title('model loss')\n",
        "plt.ylabel('loss')\n",
        "plt.xlabel('epoch')\n",
        "plt.legend(['train','test'], loc='upper left')\n",
        "plt.show()"
      ],
      "metadata": {
        "colab": {
          "base_uri": "https://localhost:8080/",
          "height": 927
        },
        "id": "rA-I0KHYV1lR",
        "outputId": "db049f34-27a8-4948-9266-9631e0a0c57d"
      },
      "execution_count": null,
      "outputs": [
        {
          "output_type": "display_data",
          "data": {
            "text/plain": [
              "<Figure size 640x480 with 1 Axes>"
            ],
            "image/png": "[encoded data removed]"
          },
          "metadata": {}
        },
        {
          "output_type": "display_data",
          "data": {
            "text/plain": [
              "<Figure size 640x480 with 1 Axes>"
            ],
            "image/png": "[encoded data removed]"
          },
          "metadata": {}
        }
      ]
    },
    {
      "cell_type": "code",
      "source": [],
      "metadata": {
        "id": "TChTPtoBV1nu"
      },
      "execution_count": null,
      "outputs": []
    },
    {
      "cell_type": "code",
      "source": [],
      "metadata": {
        "id": "z1g2iKrNYlek"
      },
      "execution_count": null,
      "outputs": []
    },
    {
      "cell_type": "markdown",
      "source": [
        "\n",
        "**Creating a Model with Meta Information Only**"
      ],
      "metadata": {
        "id": "nbMeulm0YJx9"
      }
    },
    {
      "cell_type": "code",
      "source": [
        "import seaborn as sns\n",
        "sns.barplot(x='reviews_score', y='useful', data=yelp_reviews)"
      ],
      "metadata": {
        "colab": {
          "base_uri": "https://localhost:8080/",
          "height": 470
        },
        "id": "mn48St9KXUIJ",
        "outputId": "7be74bef-90a9-4b1f-ced2-4039aff5ef93"
      },
      "execution_count": null,
      "outputs": [
        {
          "output_type": "execute_result",
          "data": {
            "text/plain": [
              "<Axes: xlabel='reviews_score', ylabel='useful'>"
            ]
          },
          "metadata": {},
          "execution_count": 33
        },
        {
          "output_type": "display_data",
          "data": {
            "text/plain": [
              "<Figure size 640x480 with 1 Axes>"
            ],
            "image/png": "[encoded data removed]"
          },
          "metadata": {}
        }
      ]
    },
    {
      "cell_type": "code",
      "source": [
        "sns.barplot(x='reviews_score', y='funny', data=yelp_reviews)"
      ],
      "metadata": {
        "colab": {
          "base_uri": "https://localhost:8080/",
          "height": 467
        },
        "id": "VGccC6t0YmMy",
        "outputId": "be123efd-eda8-4cea-985c-b9f48098cc3c"
      },
      "execution_count": null,
      "outputs": [
        {
          "output_type": "execute_result",
          "data": {
            "text/plain": [
              "<Axes: xlabel='reviews_score', ylabel='funny'>"
            ]
          },
          "metadata": {},
          "execution_count": 34
        },
        {
          "output_type": "display_data",
          "data": {
            "text/plain": [
              "<Figure size 640x480 with 1 Axes>"
            ],
            "image/png": "[encoded data removed]"
          },
          "metadata": {}
        }
      ]
    },
    {
      "cell_type": "code",
      "source": [
        "sns.barplot(x='reviews_score', y='cool', data=yelp_reviews)"
      ],
      "metadata": {
        "colab": {
          "base_uri": "https://localhost:8080/",
          "height": 467
        },
        "id": "0NeE57mCfxVq",
        "outputId": "c25ee64c-3521-4fa7-ac1a-a6bb302681df"
      },
      "execution_count": null,
      "outputs": [
        {
          "output_type": "execute_result",
          "data": {
            "text/plain": [
              "<Axes: xlabel='reviews_score', ylabel='cool'>"
            ]
          },
          "metadata": {},
          "execution_count": 35
        },
        {
          "output_type": "display_data",
          "data": {
            "text/plain": [
              "<Figure size 640x480 with 1 Axes>"
            ],
            "image/png": "[encoded data removed]"
          },
          "metadata": {}
        }
      ]
    },
    {
      "cell_type": "code",
      "source": [
        "yelp_reviews_meta = yelp_reviews[['useful', 'funny', 'cool']]\n",
        "\n",
        "X = yelp_reviews_meta.values\n",
        "\n",
        "y = yelp_reviews['reviews_score']"
      ],
      "metadata": {
        "id": "W-aZFqZvXUK6"
      },
      "execution_count": null,
      "outputs": []
    },
    {
      "cell_type": "code",
      "source": [
        "X"
      ],
      "metadata": {
        "colab": {
          "base_uri": "https://localhost:8080/"
        },
        "id": "CLrRCPG1XUNl",
        "outputId": "361bb8c6-7c25-4f15-8ec1-70ee0c1eed9b"
      },
      "execution_count": null,
      "outputs": [
        {
          "output_type": "execute_result",
          "data": {
            "text/plain": [
              "array([[ 0,  0,  0],\n",
              "       [ 4,  0,  0],\n",
              "       [50,  1,  1],\n",
              "       ...,\n",
              "       [ 1,  0,  0],\n",
              "       [ 0,  0,  0],\n",
              "       [ 0,  0,  0]])"
            ]
          },
          "metadata": {},
          "execution_count": 37
        }
      ]
    },
    {
      "cell_type": "code",
      "source": [
        "y"
      ],
      "metadata": {
        "colab": {
          "base_uri": "https://localhost:8080/"
        },
        "id": "SiuX6NtLV1q6",
        "outputId": "f5bce9c0-920b-4f93-87e6-32875904bbd2"
      },
      "execution_count": null,
      "outputs": [
        {
          "output_type": "execute_result",
          "data": {
            "text/plain": [
              "0       good\n",
              "1       good\n",
              "2       good\n",
              "3       good\n",
              "4       good\n",
              "        ... \n",
              "2969    good\n",
              "2970    good\n",
              "2971    good\n",
              "2972    good\n",
              "2973    good\n",
              "Name: reviews_score, Length: 2974, dtype: category\n",
              "Categories (3, object): ['bad' < 'average' < 'good']"
            ]
          },
          "metadata": {},
          "execution_count": 38
        }
      ]
    },
    {
      "cell_type": "code",
      "source": [
        "from sklearn import preprocessing\n",
        "\n",
        "# label_encoder object knows how to understand word labels.\n",
        "label_encoder = preprocessing.LabelEncoder()\n",
        "\n",
        "# Encode labels in column 'species'.\n",
        "y = label_encoder.fit_transform(y)\n",
        "\n",
        "X_train, X_test, y_train, y_test = train_test_split(X, y, test_size=0.20, random_state=42)\n",
        "\n",
        "from keras.utils import to_categorical\n",
        "y_train = to_categorical(y_train)\n",
        "y_test = to_categorical(y_test)"
      ],
      "metadata": {
        "id": "_SenZKqOV1uV"
      },
      "execution_count": null,
      "outputs": []
    },
    {
      "cell_type": "code",
      "source": [
        "y_train"
      ],
      "metadata": {
        "colab": {
          "base_uri": "https://localhost:8080/"
        },
        "id": "00vLM4mNh4XD",
        "outputId": "f2a9728c-8785-4981-fa16-5043f2478929"
      },
      "execution_count": null,
      "outputs": [
        {
          "output_type": "execute_result",
          "data": {
            "text/plain": [
              "array([[1., 0., 0.],\n",
              "       [0., 0., 1.],\n",
              "       [1., 0., 0.],\n",
              "       ...,\n",
              "       [0., 0., 1.],\n",
              "       [0., 0., 1.],\n",
              "       [1., 0., 0.]], dtype=float32)"
            ]
          },
          "metadata": {},
          "execution_count": 40
        }
      ]
    },
    {
      "cell_type": "code",
      "source": [
        "y_test"
      ],
      "metadata": {
        "colab": {
          "base_uri": "https://localhost:8080/"
        },
        "id": "cnZOsDuhh4Z6",
        "outputId": "a1403d8f-f4e0-4a10-bbb9-e17c35aa42aa"
      },
      "execution_count": null,
      "outputs": [
        {
          "output_type": "execute_result",
          "data": {
            "text/plain": [
              "array([[1., 0., 0.],\n",
              "       [1., 0., 0.],\n",
              "       [0., 0., 1.],\n",
              "       ...,\n",
              "       [1., 0., 0.],\n",
              "       [1., 0., 0.],\n",
              "       [1., 0., 0.]], dtype=float32)"
            ]
          },
          "metadata": {},
          "execution_count": 41
        }
      ]
    },
    {
      "cell_type": "code",
      "source": [
        "X_train"
      ],
      "metadata": {
        "colab": {
          "base_uri": "https://localhost:8080/"
        },
        "id": "PnKsjqjMJTan",
        "outputId": "5d1f3e88-2f8c-4896-8db6-c9d660c14313"
      },
      "execution_count": null,
      "outputs": [
        {
          "output_type": "execute_result",
          "data": {
            "text/plain": [
              "array([[   7,    0,    1],\n",
              "       [   0,    1,    0],\n",
              "       [   9,    1,    1],\n",
              "       ...,\n",
              "       [   7,    0,    0],\n",
              "       [2929, 1884, 1995],\n",
              "       [   0,    0,    0]])"
            ]
          },
          "metadata": {},
          "execution_count": 49
        }
      ]
    },
    {
      "cell_type": "code",
      "source": [
        "input2 = Input(shape=(3,))\n",
        "dense_layer_1 = Dense(10, activation='relu')(input2)\n",
        "dense_layer_2 = Dense(10, activation='relu')(dense_layer_1)\n",
        "output = Dense(3, activation='softmax')(dense_layer_2)\n",
        "\n",
        "model = Model(inputs=input2, outputs=output)\n",
        "model.compile(loss='categorical_crossentropy', optimizer='adam', metrics=['acc'])"
      ],
      "metadata": {
        "id": "XZGl6Youh4cU"
      },
      "execution_count": null,
      "outputs": []
    },
    {
      "cell_type": "code",
      "source": [
        "print(model.summary())"
      ],
      "metadata": {
        "colab": {
          "base_uri": "https://localhost:8080/"
        },
        "id": "avfygc4oh4gO",
        "outputId": "c788c486-bd43-4041-eb73-97a1a1c09a0e"
      },
      "execution_count": null,
      "outputs": [
        {
          "output_type": "stream",
          "name": "stdout",
          "text": [
            "Model: \"model_1\"\n",
            "_________________________________________________________________\n",
            " Layer (type)                Output Shape              Param #   \n",
            "=================================================================\n",
            " input_2 (InputLayer)        [(None, 3)]               0         \n",
            "                                                                 \n",
            " dense_1 (Dense)             (None, 10)                40        \n",
            "                                                                 \n",
            " dense_2 (Dense)             (None, 10)                110       \n",
            "                                                                 \n",
            " dense_3 (Dense)             (None, 3)                 33        \n",
            "                                                                 \n",
            "=================================================================\n",
            "Total params: 183\n",
            "Trainable params: 183\n",
            "Non-trainable params: 0\n",
            "_________________________________________________________________\n",
            "None\n"
          ]
        }
      ]
    },
    {
      "cell_type": "code",
      "source": [
        "from keras.utils import plot_model\n",
        "plot_model(model, to_file='model_plot2.png', show_shapes=True, show_layer_names=True)"
      ],
      "metadata": {
        "colab": {
          "base_uri": "https://localhost:8080/",
          "height": 422
        },
        "id": "IDJThpWgjSDT",
        "outputId": "360ba1ab-60d2-42f6-8101-e7691124a41a"
      },
      "execution_count": null,
      "outputs": [
        {
          "output_type": "execute_result",
          "data": {
            "image/png": "[encoded data removed]",
            "text/plain": [
              "<IPython.core.display.Image object>"
            ]
          },
          "metadata": {},
          "execution_count": 47
        }
      ]
    },
    {
      "cell_type": "code",
      "source": [
        "history = model.fit(X_train, y_train, batch_size=16, epochs=2, verbose=1, validation_split=0.2)"
      ],
      "metadata": {
        "colab": {
          "base_uri": "https://localhost:8080/"
        },
        "id": "q1oPt1idjSFy",
        "outputId": "3d325952-4467-465e-a617-f05dabe29a24"
      },
      "execution_count": null,
      "outputs": [
        {
          "output_type": "stream",
          "name": "stdout",
          "text": [
            "Epoch 1/2\n",
            "119/119 [==============================] - 2s 6ms/step - loss: 3.1214 - acc: 0.4819 - val_loss: 4.8209 - val_acc: 0.5483\n",
            "Epoch 2/2\n",
            "119/119 [==============================] - 0s 4ms/step - loss: 1.8860 - acc: 0.5691 - val_loss: 4.5497 - val_acc: 0.6008\n"
          ]
        }
      ]
    },
    {
      "cell_type": "code",
      "source": [
        "score = model.evaluate(X_test, y_test, verbose=1)\n",
        "\n",
        "print(\"Test Score:\", score[0])\n",
        "print(\"Test Accuracy:\", score[1])"
      ],
      "metadata": {
        "colab": {
          "base_uri": "https://localhost:8080/"
        },
        "id": "cx-kf5u1jxCK",
        "outputId": "bf4a0b54-a4de-47e1-c301-887e460332d3"
      },
      "execution_count": null,
      "outputs": [
        {
          "output_type": "stream",
          "name": "stdout",
          "text": [
            "19/19 [==============================] - 0s 4ms/step - loss: 1.0848 - acc: 0.5916\n",
            "Test Score: 1.0847629308700562\n",
            "Test Accuracy: 0.5915966629981995\n"
          ]
        }
      ]
    },
    {
      "cell_type": "code",
      "source": [
        "import matplotlib.pyplot as plt\n",
        "\n",
        "plt.plot(history.history['acc'])\n",
        "plt.plot(history.history['val_acc'])\n",
        "\n",
        "plt.title('model accuracy')\n",
        "plt.ylabel('accuracy')\n",
        "plt.xlabel('epoch')\n",
        "plt.legend(['train','test'], loc='upper left')\n",
        "plt.show()\n",
        "\n",
        "plt.plot(history.history['loss'])\n",
        "plt.plot(history.history['val_loss'])\n",
        "\n",
        "plt.title('model loss')\n",
        "plt.ylabel('loss')\n",
        "plt.xlabel('epoch')\n",
        "plt.legend(['train','test'], loc='upper left')\n",
        "plt.show()"
      ],
      "metadata": {
        "colab": {
          "base_uri": "https://localhost:8080/",
          "height": 927
        },
        "id": "nakn49xZjxE-",
        "outputId": "94000781-a81c-4de5-c789-ede53e8119ef"
      },
      "execution_count": null,
      "outputs": [
        {
          "output_type": "display_data",
          "data": {
            "text/plain": [
              "<Figure size 640x480 with 1 Axes>"
            ],
            "image/png": "[encoded data removed]"
          },
          "metadata": {}
        },
        {
          "output_type": "display_data",
          "data": {
            "text/plain": [
              "<Figure size 640x480 with 1 Axes>"
            ],
            "image/png": "[encoded data removed]"
          },
          "metadata": {}
        }
      ]
    },
    {
      "cell_type": "code",
      "source": [],
      "metadata": {
        "id": "vhQuzCLYlqQj"
      },
      "execution_count": null,
      "outputs": []
    },
    {
      "cell_type": "markdown",
      "source": [
        "**Creating a Model with Multiple Inputs**"
      ],
      "metadata": {
        "id": "bmxve0uZKjqc"
      }
    },
    {
      "cell_type": "code",
      "source": [
        "X = yelp_reviews.drop('reviews_score', axis=1)\n",
        "\n",
        "y = yelp_reviews['reviews_score']"
      ],
      "metadata": {
        "id": "XuEaHUiDlqTC"
      },
      "execution_count": null,
      "outputs": []
    },
    {
      "cell_type": "code",
      "source": [
        "from sklearn import preprocessing\n",
        "\n",
        "# label_encoder object knows how to understand word labels.\n",
        "label_encoder = preprocessing.LabelEncoder()\n",
        "\n",
        "# Encode labels in column 'species'.\n",
        "y = label_encoder.fit_transform(y)\n",
        "\n",
        "X_train, X_test, y_train, y_test = train_test_split(X, y, test_size=0.20, random_state=42)\n",
        "\n",
        "from keras.utils import to_categorical\n",
        "y_train = to_categorical(y_train)\n",
        "y_test = to_categorical(y_test)"
      ],
      "metadata": {
        "id": "5l_oniX3jxHc"
      },
      "execution_count": null,
      "outputs": []
    },
    {
      "cell_type": "code",
      "source": [
        "y_test"
      ],
      "metadata": {
        "colab": {
          "base_uri": "https://localhost:8080/"
        },
        "id": "fNB0PMcejxJ6",
        "outputId": "f6635188-89be-4f8d-be3a-0dcb2cace741"
      },
      "execution_count": null,
      "outputs": [
        {
          "output_type": "execute_result",
          "data": {
            "text/plain": [
              "array([[1., 0., 0.],\n",
              "       [1., 0., 0.],\n",
              "       [0., 0., 1.],\n",
              "       ...,\n",
              "       [1., 0., 0.],\n",
              "       [1., 0., 0.],\n",
              "       [1., 0., 0.]], dtype=float32)"
            ]
          },
          "metadata": {},
          "execution_count": 55
        }
      ]
    },
    {
      "cell_type": "code",
      "source": [
        "def preprocess_text(sen):\n",
        "\n",
        "    # Remove punctuations and numbers\n",
        "    sentence = re.sub('[^a-zA-Z]', ' ', sen)\n",
        "\n",
        "    # Single character removal\n",
        "    sentence = re.sub(r\"\\s+[a-zA-Z]\\s+\", ' ', sentence)\n",
        "\n",
        "    # Removing multiple spaces\n",
        "    sentence = re.sub(r'\\s+', ' ', sentence)\n",
        "\n",
        "    return sentence"
      ],
      "metadata": {
        "id": "MSPNJ-tojxMh"
      },
      "execution_count": null,
      "outputs": []
    },
    {
      "cell_type": "code",
      "source": [
        "X1_train = []\n",
        "sentences = list(X_train[\"text\"])\n",
        "for sen in sentences:\n",
        "    X1_train.append(preprocess_text(sen))"
      ],
      "metadata": {
        "id": "KziMhiYzLA7O"
      },
      "execution_count": null,
      "outputs": []
    },
    {
      "cell_type": "code",
      "source": [
        "X1_test = []\n",
        "sentences = list(X_test[\"text\"])\n",
        "for sen in sentences:\n",
        "    X1_test.append(preprocess_text(sen))"
      ],
      "metadata": {
        "id": "TxWCDylXLA99"
      },
      "execution_count": null,
      "outputs": []
    },
    {
      "cell_type": "code",
      "source": [
        "tokenizer = Tokenizer(num_words=5000)\n",
        "tokenizer.fit_on_texts(X1_train)\n",
        "\n",
        "X1_train = tokenizer.texts_to_sequences(X1_train)\n",
        "X1_test = tokenizer.texts_to_sequences(X1_test)\n",
        "\n",
        "vocab_size = len(tokenizer.word_index) + 1\n",
        "\n",
        "maxlen = 200\n",
        "\n",
        "X1_train = pad_sequences(X1_train, padding='post', maxlen=maxlen)\n",
        "X1_test = pad_sequences(X1_test, padding='post', maxlen=maxlen)"
      ],
      "metadata": {
        "id": "IfNE09Z9LBA1"
      },
      "execution_count": null,
      "outputs": []
    },
    {
      "cell_type": "code",
      "source": [
        "X1_train[0].shape"
      ],
      "metadata": {
        "colab": {
          "base_uri": "https://localhost:8080/"
        },
        "id": "XxYgvdS2LBDi",
        "outputId": "3c5d083e-82de-484b-90a1-8fc432c82d8c"
      },
      "execution_count": null,
      "outputs": [
        {
          "output_type": "execute_result",
          "data": {
            "text/plain": [
              "(200,)"
            ]
          },
          "metadata": {},
          "execution_count": 62
        }
      ]
    },
    {
      "cell_type": "code",
      "source": [
        "X1_train[0]"
      ],
      "metadata": {
        "colab": {
          "base_uri": "https://localhost:8080/"
        },
        "id": "DTF-4WwfLZuv",
        "outputId": "44d4b6b2-4682-4de7-b98c-c54c072e8d12"
      },
      "execution_count": null,
      "outputs": [
        {
          "output_type": "execute_result",
          "data": {
            "text/plain": [
              "array([ 369,   11,  348, 1151,   16,   32,  294,    8,   32,   10, 2394,\n",
              "         12,   62,   37,    4,  578,   13,  197,    1,  803,  239,    2,\n",
              "        126,  411,  151,    8,   65,   20,   43,   22,    7,    9,  140,\n",
              "        239,    2,  237,   20,  125,   11,  197,   28,   19,  151,   30,\n",
              "         11,  411,    4,   20,   55,   10,   37,    6,  486,   70,    7,\n",
              "       1739,    2,   48,  468,    8,   75,  411,  151,   59,   11,  197,\n",
              "          6,  765,   88,   39, 1501,   18,  247,   68,    3,  425,  411,\n",
              "          2,    6,  378,   20,  209,   28,   82,    2,   19,    3,  330,\n",
              "        140,    3,   43,   41,  344,  219,   11, 1909,   58, 2716,    3,\n",
              "       2232,    2,  920,   62,   37,   18,   40,  133,  344,  483,   58,\n",
              "         77,   13,  557,  121,  168,    3,   29,  144,    8,  425,  209,\n",
              "         13,   11,   58,  303,  506,    4,   11,  461,   86,  734,  218,\n",
              "        557,   60, 1209,   82,   26, 1409,    2,    8,   62,   22,    8,\n",
              "         25,  118,    3,  425,  209,   13,    6,  303,  261,   86,    8,\n",
              "        746,  344,    9, 3737,   46,    8,   19,    6,  850,   38,    9,\n",
              "        142,   62,   37, 1740,    6,   82,  500,    2,    8, 1210,   22,\n",
              "          3,   77,    1, 2974,   24,   19,   58,  151,  175,   87,   24,\n",
              "        147,    3,   11,  691,    2,  151,    6,    7,  210,    9,   44,\n",
              "        412,  108], dtype=int32)"
            ]
          },
          "metadata": {},
          "execution_count": 63
        }
      ]
    },
    {
      "cell_type": "code",
      "source": [
        "from numpy import array\n",
        "from numpy import asarray\n",
        "from numpy import zeros\n",
        "\n",
        "embeddings_dictionary = dict()\n",
        "\n",
        "glove_file = open('/content/drive/MyDrive/August Preparation 2023/20-Deep Learning/glove.6B.100d.txt', encoding=\"utf8\")\n",
        "\n",
        "for line in glove_file:\n",
        "    records = line.split()\n",
        "    word = records[0]\n",
        "    vector_dimensions = asarray(records[1:], dtype='float32')\n",
        "    embeddings_dictionary[word] = vector_dimensions\n",
        "\n",
        "glove_file.close()\n",
        "\n",
        "embedding_matrix = zeros((vocab_size, 100))\n",
        "for word, index in tokenizer.word_index.items():\n",
        "    embedding_vector = embeddings_dictionary.get(word)\n",
        "    if embedding_vector is not None:\n",
        "        embedding_matrix[index] = embedding_vector"
      ],
      "metadata": {
        "id": "j-m1qrKQLBG4"
      },
      "execution_count": null,
      "outputs": []
    },
    {
      "cell_type": "code",
      "source": [
        "embedding_matrix[0].shape"
      ],
      "metadata": {
        "colab": {
          "base_uri": "https://localhost:8080/"
        },
        "id": "gxDWOkaxLBJO",
        "outputId": "842006b5-a09e-4a80-94ef-60c310b2ac07"
      },
      "execution_count": null,
      "outputs": [
        {
          "output_type": "execute_result",
          "data": {
            "text/plain": [
              "(100,)"
            ]
          },
          "metadata": {},
          "execution_count": 68
        }
      ]
    },
    {
      "cell_type": "code",
      "source": [
        "embedding_matrix[0]"
      ],
      "metadata": {
        "colab": {
          "base_uri": "https://localhost:8080/"
        },
        "id": "PsrFTfSgLBlf",
        "outputId": "68983bf2-e1d0-4f6a-bb70-9354bd42d561"
      },
      "execution_count": null,
      "outputs": [
        {
          "output_type": "execute_result",
          "data": {
            "text/plain": [
              "array([0., 0., 0., 0., 0., 0., 0., 0., 0., 0., 0., 0., 0., 0., 0., 0., 0.,\n",
              "       0., 0., 0., 0., 0., 0., 0., 0., 0., 0., 0., 0., 0., 0., 0., 0., 0.,\n",
              "       0., 0., 0., 0., 0., 0., 0., 0., 0., 0., 0., 0., 0., 0., 0., 0., 0.,\n",
              "       0., 0., 0., 0., 0., 0., 0., 0., 0., 0., 0., 0., 0., 0., 0., 0., 0.,\n",
              "       0., 0., 0., 0., 0., 0., 0., 0., 0., 0., 0., 0., 0., 0., 0., 0., 0.,\n",
              "       0., 0., 0., 0., 0., 0., 0., 0., 0., 0., 0., 0., 0., 0., 0.])"
            ]
          },
          "metadata": {},
          "execution_count": 69
        }
      ]
    },
    {
      "cell_type": "code",
      "source": [
        "X2_train = X_train[['useful', 'funny', 'cool']].values\n",
        "X2_test = X_test[['useful', 'funny', 'cool']].values"
      ],
      "metadata": {
        "id": "ynPC_InYLBoK"
      },
      "execution_count": null,
      "outputs": []
    },
    {
      "cell_type": "code",
      "source": [
        "X2_train"
      ],
      "metadata": {
        "colab": {
          "base_uri": "https://localhost:8080/"
        },
        "id": "1ceEU2ruLBrQ",
        "outputId": "165dad0b-816e-48cd-e8ae-53d9fbd362e2"
      },
      "execution_count": null,
      "outputs": [
        {
          "output_type": "execute_result",
          "data": {
            "text/plain": [
              "array([[   7,    0,    1],\n",
              "       [   0,    1,    0],\n",
              "       [   9,    1,    1],\n",
              "       ...,\n",
              "       [   7,    0,    0],\n",
              "       [2929, 1884, 1995],\n",
              "       [   0,    0,    0]])"
            ]
          },
          "metadata": {},
          "execution_count": 71
        }
      ]
    },
    {
      "cell_type": "code",
      "source": [
        "input_1 = Input(shape=(maxlen,))\n",
        "\n",
        "input_2 = Input(shape=(3,))"
      ],
      "metadata": {
        "id": "edLNpzOzLBt2"
      },
      "execution_count": null,
      "outputs": []
    },
    {
      "cell_type": "code",
      "source": [
        "input_1.shape"
      ],
      "metadata": {
        "colab": {
          "base_uri": "https://localhost:8080/"
        },
        "id": "JzELmoHpNhtD",
        "outputId": "54860b9b-6501-485d-92e5-ae11c6313d11"
      },
      "execution_count": null,
      "outputs": [
        {
          "output_type": "execute_result",
          "data": {
            "text/plain": [
              "TensorShape([None, 200])"
            ]
          },
          "metadata": {},
          "execution_count": 77
        }
      ]
    },
    {
      "cell_type": "code",
      "source": [
        "embedding_layer = Embedding(vocab_size, 100, weights=[embedding_matrix], trainable=False)(input_1)\n",
        "LSTM_Layer_1 = LSTM(128)(embedding_layer)\n"
      ],
      "metadata": {
        "id": "cGUhsFToLBxD"
      },
      "execution_count": null,
      "outputs": []
    },
    {
      "cell_type": "code",
      "source": [
        "dense_layer_1 = Dense(10, activation='relu')(input_2)\n",
        "dense_layer_2 = Dense(10, activation='relu')(dense_layer_1)"
      ],
      "metadata": {
        "id": "Mb7dx62rM482"
      },
      "execution_count": null,
      "outputs": []
    },
    {
      "cell_type": "code",
      "source": [
        "concat_layer = Concatenate()([LSTM_Layer_1, dense_layer_2])\n",
        "dense_layer_3 = Dense(10, activation='relu')(concat_layer)\n",
        "output = Dense(3, activation='softmax')(dense_layer_3)\n",
        "model = Model(inputs=[input_1, input_2], outputs=output)"
      ],
      "metadata": {
        "id": "IWyK-CNPM5AM"
      },
      "execution_count": null,
      "outputs": []
    },
    {
      "cell_type": "code",
      "source": [
        "model.compile(loss='categorical_crossentropy', optimizer='adam', metrics=['acc'])\n",
        "print(model.summary())"
      ],
      "metadata": {
        "colab": {
          "base_uri": "https://localhost:8080/"
        },
        "id": "O2YXisH7M5DR",
        "outputId": "e6261323-299c-4ad2-9c77-f523ee7facd6"
      },
      "execution_count": null,
      "outputs": [
        {
          "output_type": "stream",
          "name": "stdout",
          "text": [
            "Model: \"model_2\"\n",
            "__________________________________________________________________________________________________\n",
            " Layer (type)                   Output Shape         Param #     Connected to                     \n",
            "==================================================================================================\n",
            " input_3 (InputLayer)           [(None, 200)]        0           []                               \n",
            "                                                                                                  \n",
            " input_4 (InputLayer)           [(None, 3)]          0           []                               \n",
            "                                                                                                  \n",
            " embedding_1 (Embedding)        (None, 200, 100)     1168200     ['input_3[0][0]']                \n",
            "                                                                                                  \n",
            " dense_4 (Dense)                (None, 10)           40          ['input_4[0][0]']                \n",
            "                                                                                                  \n",
            " lstm_1 (LSTM)                  (None, 128)          117248      ['embedding_1[0][0]']            \n",
            "                                                                                                  \n",
            " dense_5 (Dense)                (None, 10)           110         ['dense_4[0][0]']                \n",
            "                                                                                                  \n",
            " concatenate (Concatenate)      (None, 138)          0           ['lstm_1[0][0]',                 \n",
            "                                                                  'dense_5[0][0]']                \n",
            "                                                                                                  \n",
            " dense_6 (Dense)                (None, 10)           1390        ['concatenate[0][0]']            \n",
            "                                                                                                  \n",
            " dense_7 (Dense)                (None, 3)            33          ['dense_6[0][0]']                \n",
            "                                                                                                  \n",
            "==================================================================================================\n",
            "Total params: 1,287,021\n",
            "Trainable params: 118,821\n",
            "Non-trainable params: 1,168,200\n",
            "__________________________________________________________________________________________________\n",
            "None\n"
          ]
        }
      ]
    },
    {
      "cell_type": "code",
      "source": [
        "from keras.utils import plot_model\n",
        "plot_model(model, to_file='model_plot3.png', show_shapes=True, show_layer_names=True)"
      ],
      "metadata": {
        "colab": {
          "base_uri": "https://localhost:8080/",
          "height": 644
        },
        "id": "PJjsT6NIM5Gr",
        "outputId": "2426b640-8e34-42c7-d2aa-c4d84e512d2e"
      },
      "execution_count": null,
      "outputs": [
        {
          "output_type": "execute_result",
          "data": {
            "image/png": "[encoded data removed]",
            "text/plain": [
              "<IPython.core.display.Image object>"
            ]
          },
          "metadata": {},
          "execution_count": 80
        }
      ]
    },
    {
      "cell_type": "code",
      "source": [
        "history = model.fit(x=[X1_train, X2_train], y=y_train, batch_size=128, epochs=2, verbose=1, validation_split=0.2)"
      ],
      "metadata": {
        "colab": {
          "base_uri": "https://localhost:8080/"
        },
        "id": "COUrqrOiM5KC",
        "outputId": "204cc120-ca3d-4b71-e411-1fae64fe4822"
      },
      "execution_count": null,
      "outputs": [
        {
          "output_type": "stream",
          "name": "stdout",
          "text": [
            "Epoch 1/2\n",
            "15/15 [==============================] - 17s 865ms/step - loss: 4.3828 - acc: 0.5738 - val_loss: 4.0795 - val_acc: 0.6008\n",
            "Epoch 2/2\n",
            "15/15 [==============================] - 14s 984ms/step - loss: 3.1972 - acc: 0.5460 - val_loss: 2.5995 - val_acc: 0.5903\n"
          ]
        }
      ]
    },
    {
      "cell_type": "code",
      "source": [
        "score = model.evaluate(x=[X1_test, X2_test], y=y_test, verbose=1)\n",
        "\n",
        "print(\"Test Score:\", score[0])\n",
        "print(\"Test Accuracy:\", score[1])"
      ],
      "metadata": {
        "colab": {
          "base_uri": "https://localhost:8080/"
        },
        "id": "paEJ2pVNM5Nj",
        "outputId": "7c29749f-ec6f-4838-e433-3fbda011e7a1"
      },
      "execution_count": null,
      "outputs": [
        {
          "output_type": "stream",
          "name": "stdout",
          "text": [
            "19/19 [==============================] - 3s 148ms/step - loss: 3.4169 - acc: 0.5983\n",
            "Test Score: 3.416940212249756\n",
            "Test Accuracy: 0.5983193516731262\n"
          ]
        }
      ]
    },
    {
      "cell_type": "code",
      "source": [
        "import matplotlib.pyplot as plt\n",
        "\n",
        "plt.plot(history.history['acc'])\n",
        "plt.plot(history.history['val_acc'])\n",
        "\n",
        "plt.title('model accuracy')\n",
        "plt.ylabel('accuracy')\n",
        "plt.xlabel('epoch')\n",
        "plt.legend(['train','test'], loc='upper left')\n",
        "plt.show()\n",
        "\n",
        "plt.plot(history.history['loss'])\n",
        "plt.plot(history.history['val_loss'])\n",
        "\n",
        "plt.title('model loss')\n",
        "plt.ylabel('loss')\n",
        "plt.xlabel('epoch')\n",
        "plt.legend(['train','test'], loc='upper left')\n",
        "plt.show()"
      ],
      "metadata": {
        "colab": {
          "base_uri": "https://localhost:8080/",
          "height": 927
        },
        "id": "LtwYl1J9M5RY",
        "outputId": "156e9e45-7bac-499f-c64f-77424ea50f2d"
      },
      "execution_count": null,
      "outputs": [
        {
          "output_type": "display_data",
          "data": {
            "text/plain": [
              "<Figure size 640x480 with 1 Axes>"
            ],
            "image/png": "[encoded data removed]"
          },
          "metadata": {}
        },
        {
          "output_type": "display_data",
          "data": {
            "text/plain": [
              "<Figure size 640x480 with 1 Axes>"
            ],
            "image/png": "[encoded data removed]"
          },
          "metadata": {}
        }
      ]
    },
    {
      "cell_type": "code",
      "source": [],
      "metadata": {
        "id": "6keSpPNtM5Vx"
      },
      "execution_count": null,
      "outputs": []
    },
    {
      "cell_type": "code",
      "source": [],
      "metadata": {
        "id": "ODAeCrMeM5Zu"
      },
      "execution_count": null,
      "outputs": []
    }
  ]
}